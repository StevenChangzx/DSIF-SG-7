{
 "cells": [
  {
   "cell_type": "code",
   "execution_count": 1,
   "metadata": {},
   "outputs": [],
   "source": [
    "# importing libraries\n",
    "import requests\n",
    "import pandas as pd\n",
    "import numpy as np\n",
    "import time\n",
    "pd.set_option(\"display.max_columns\", None)"
   ]
  },
  {
   "cell_type": "code",
   "execution_count": 2,
   "metadata": {},
   "outputs": [],
   "source": [
    "# base url\n",
    "url = 'https://api.pushshift.io/reddit/search/submission?'"
   ]
  },
  {
   "cell_type": "code",
   "execution_count": 3,
   "metadata": {},
   "outputs": [
    {
     "data": {
      "text/plain": [
       "200"
      ]
     },
     "execution_count": 3,
     "metadata": {},
     "output_type": "execute_result"
    }
   ],
   "source": [
    "# investing url initial request \n",
    "url_investing = url + 'subreddit=investing'\n",
    "\n",
    "res_investing = requests.get(url_investing)\n",
    "res_investing.status_code"
   ]
  },
  {
   "cell_type": "code",
   "execution_count": 4,
   "metadata": {},
   "outputs": [
    {
     "data": {
      "text/html": [
       "<div>\n",
       "<style scoped>\n",
       "    .dataframe tbody tr th:only-of-type {\n",
       "        vertical-align: middle;\n",
       "    }\n",
       "\n",
       "    .dataframe tbody tr th {\n",
       "        vertical-align: top;\n",
       "    }\n",
       "\n",
       "    .dataframe thead th {\n",
       "        text-align: right;\n",
       "    }\n",
       "</style>\n",
       "<table border=\"1\" class=\"dataframe\">\n",
       "  <thead>\n",
       "    <tr style=\"text-align: right;\">\n",
       "      <th></th>\n",
       "      <th>all_awardings</th>\n",
       "      <th>allow_live_comments</th>\n",
       "      <th>author</th>\n",
       "      <th>author_flair_css_class</th>\n",
       "      <th>author_flair_richtext</th>\n",
       "      <th>author_flair_text</th>\n",
       "      <th>author_flair_type</th>\n",
       "      <th>author_fullname</th>\n",
       "      <th>author_is_blocked</th>\n",
       "      <th>author_patreon_flair</th>\n",
       "      <th>author_premium</th>\n",
       "      <th>awarders</th>\n",
       "      <th>can_mod_post</th>\n",
       "      <th>contest_mode</th>\n",
       "      <th>created_utc</th>\n",
       "      <th>domain</th>\n",
       "      <th>full_link</th>\n",
       "      <th>gildings</th>\n",
       "      <th>id</th>\n",
       "      <th>is_created_from_ads_ui</th>\n",
       "      <th>is_crosspostable</th>\n",
       "      <th>is_meta</th>\n",
       "      <th>is_original_content</th>\n",
       "      <th>is_reddit_media_domain</th>\n",
       "      <th>is_robot_indexable</th>\n",
       "      <th>is_self</th>\n",
       "      <th>is_video</th>\n",
       "      <th>link_flair_background_color</th>\n",
       "      <th>link_flair_richtext</th>\n",
       "      <th>link_flair_text_color</th>\n",
       "      <th>link_flair_type</th>\n",
       "      <th>locked</th>\n",
       "      <th>media_only</th>\n",
       "      <th>no_follow</th>\n",
       "      <th>num_comments</th>\n",
       "      <th>num_crossposts</th>\n",
       "      <th>over_18</th>\n",
       "      <th>parent_whitelist_status</th>\n",
       "      <th>permalink</th>\n",
       "      <th>pinned</th>\n",
       "      <th>pwls</th>\n",
       "      <th>removed_by_category</th>\n",
       "      <th>retrieved_on</th>\n",
       "      <th>score</th>\n",
       "      <th>selftext</th>\n",
       "      <th>send_replies</th>\n",
       "      <th>spoiler</th>\n",
       "      <th>stickied</th>\n",
       "      <th>subreddit</th>\n",
       "      <th>subreddit_id</th>\n",
       "      <th>subreddit_subscribers</th>\n",
       "      <th>subreddit_type</th>\n",
       "      <th>thumbnail</th>\n",
       "      <th>title</th>\n",
       "      <th>total_awards_received</th>\n",
       "      <th>treatment_tags</th>\n",
       "      <th>upvote_ratio</th>\n",
       "      <th>url</th>\n",
       "      <th>whitelist_status</th>\n",
       "      <th>wls</th>\n",
       "      <th>post_hint</th>\n",
       "      <th>preview</th>\n",
       "    </tr>\n",
       "  </thead>\n",
       "  <tbody>\n",
       "    <tr>\n",
       "      <th>0</th>\n",
       "      <td>[]</td>\n",
       "      <td>False</td>\n",
       "      <td>MOB_Titan</td>\n",
       "      <td>None</td>\n",
       "      <td>[]</td>\n",
       "      <td>None</td>\n",
       "      <td>text</td>\n",
       "      <td>t2_g0ltgmtq</td>\n",
       "      <td>False</td>\n",
       "      <td>False</td>\n",
       "      <td>False</td>\n",
       "      <td>[]</td>\n",
       "      <td>False</td>\n",
       "      <td>False</td>\n",
       "      <td>1667784827</td>\n",
       "      <td>self.investing</td>\n",
       "      <td>https://www.reddit.com/r/investing/comments/yo...</td>\n",
       "      <td>{}</td>\n",
       "      <td>yo91wi</td>\n",
       "      <td>False</td>\n",
       "      <td>False</td>\n",
       "      <td>False</td>\n",
       "      <td>False</td>\n",
       "      <td>False</td>\n",
       "      <td>False</td>\n",
       "      <td>True</td>\n",
       "      <td>False</td>\n",
       "      <td></td>\n",
       "      <td>[]</td>\n",
       "      <td>dark</td>\n",
       "      <td>text</td>\n",
       "      <td>False</td>\n",
       "      <td>False</td>\n",
       "      <td>True</td>\n",
       "      <td>1</td>\n",
       "      <td>0</td>\n",
       "      <td>False</td>\n",
       "      <td>all_ads</td>\n",
       "      <td>/r/investing/comments/yo91wi/how_do_i_invest_a...</td>\n",
       "      <td>False</td>\n",
       "      <td>6</td>\n",
       "      <td>moderator</td>\n",
       "      <td>1667784837</td>\n",
       "      <td>1</td>\n",
       "      <td>[removed]</td>\n",
       "      <td>True</td>\n",
       "      <td>False</td>\n",
       "      <td>False</td>\n",
       "      <td>investing</td>\n",
       "      <td>t5_2qhhq</td>\n",
       "      <td>2084499</td>\n",
       "      <td>public</td>\n",
       "      <td>self</td>\n",
       "      <td>How do I invest and trade bond positions on RH...</td>\n",
       "      <td>0</td>\n",
       "      <td>[]</td>\n",
       "      <td>1.0</td>\n",
       "      <td>https://www.reddit.com/r/investing/comments/yo...</td>\n",
       "      <td>all_ads</td>\n",
       "      <td>6</td>\n",
       "      <td>NaN</td>\n",
       "      <td>NaN</td>\n",
       "    </tr>\n",
       "    <tr>\n",
       "      <th>1</th>\n",
       "      <td>[]</td>\n",
       "      <td>False</td>\n",
       "      <td>Thecosmodreamer</td>\n",
       "      <td>None</td>\n",
       "      <td>[]</td>\n",
       "      <td>None</td>\n",
       "      <td>text</td>\n",
       "      <td>t2_5jj6x3g</td>\n",
       "      <td>False</td>\n",
       "      <td>False</td>\n",
       "      <td>False</td>\n",
       "      <td>[]</td>\n",
       "      <td>False</td>\n",
       "      <td>False</td>\n",
       "      <td>1667784271</td>\n",
       "      <td>self.investing</td>\n",
       "      <td>https://www.reddit.com/r/investing/comments/yo...</td>\n",
       "      <td>{}</td>\n",
       "      <td>yo8uo1</td>\n",
       "      <td>False</td>\n",
       "      <td>True</td>\n",
       "      <td>False</td>\n",
       "      <td>False</td>\n",
       "      <td>False</td>\n",
       "      <td>True</td>\n",
       "      <td>True</td>\n",
       "      <td>False</td>\n",
       "      <td></td>\n",
       "      <td>[]</td>\n",
       "      <td>dark</td>\n",
       "      <td>text</td>\n",
       "      <td>False</td>\n",
       "      <td>False</td>\n",
       "      <td>False</td>\n",
       "      <td>0</td>\n",
       "      <td>0</td>\n",
       "      <td>False</td>\n",
       "      <td>all_ads</td>\n",
       "      <td>/r/investing/comments/yo8uo1/beginning_portfol...</td>\n",
       "      <td>False</td>\n",
       "      <td>6</td>\n",
       "      <td>NaN</td>\n",
       "      <td>1667784282</td>\n",
       "      <td>1</td>\n",
       "      <td>\\n\\nBetter late than never, am I right? 😅\\n\\n...</td>\n",
       "      <td>True</td>\n",
       "      <td>False</td>\n",
       "      <td>False</td>\n",
       "      <td>investing</td>\n",
       "      <td>t5_2qhhq</td>\n",
       "      <td>2084498</td>\n",
       "      <td>public</td>\n",
       "      <td>self</td>\n",
       "      <td>Beginning portfolio at 40 (repost)</td>\n",
       "      <td>0</td>\n",
       "      <td>[]</td>\n",
       "      <td>1.0</td>\n",
       "      <td>https://www.reddit.com/r/investing/comments/yo...</td>\n",
       "      <td>all_ads</td>\n",
       "      <td>6</td>\n",
       "      <td>NaN</td>\n",
       "      <td>NaN</td>\n",
       "    </tr>\n",
       "    <tr>\n",
       "      <th>2</th>\n",
       "      <td>[]</td>\n",
       "      <td>False</td>\n",
       "      <td>Gullible_Gooney</td>\n",
       "      <td>None</td>\n",
       "      <td>[]</td>\n",
       "      <td>None</td>\n",
       "      <td>text</td>\n",
       "      <td>t2_u1iwcsil</td>\n",
       "      <td>False</td>\n",
       "      <td>False</td>\n",
       "      <td>False</td>\n",
       "      <td>[]</td>\n",
       "      <td>False</td>\n",
       "      <td>False</td>\n",
       "      <td>1667780623</td>\n",
       "      <td>self.investing</td>\n",
       "      <td>https://www.reddit.com/r/investing/comments/yo...</td>\n",
       "      <td>{}</td>\n",
       "      <td>yo7jaf</td>\n",
       "      <td>False</td>\n",
       "      <td>False</td>\n",
       "      <td>False</td>\n",
       "      <td>False</td>\n",
       "      <td>False</td>\n",
       "      <td>False</td>\n",
       "      <td>True</td>\n",
       "      <td>False</td>\n",
       "      <td></td>\n",
       "      <td>[]</td>\n",
       "      <td>dark</td>\n",
       "      <td>text</td>\n",
       "      <td>False</td>\n",
       "      <td>False</td>\n",
       "      <td>True</td>\n",
       "      <td>1</td>\n",
       "      <td>0</td>\n",
       "      <td>False</td>\n",
       "      <td>all_ads</td>\n",
       "      <td>/r/investing/comments/yo7jaf/what_would_you_do...</td>\n",
       "      <td>False</td>\n",
       "      <td>6</td>\n",
       "      <td>moderator</td>\n",
       "      <td>1667780633</td>\n",
       "      <td>1</td>\n",
       "      <td>[removed]</td>\n",
       "      <td>True</td>\n",
       "      <td>False</td>\n",
       "      <td>False</td>\n",
       "      <td>investing</td>\n",
       "      <td>t5_2qhhq</td>\n",
       "      <td>2084471</td>\n",
       "      <td>public</td>\n",
       "      <td>self</td>\n",
       "      <td>What would you do with some extra cash</td>\n",
       "      <td>0</td>\n",
       "      <td>[]</td>\n",
       "      <td>1.0</td>\n",
       "      <td>https://www.reddit.com/r/investing/comments/yo...</td>\n",
       "      <td>all_ads</td>\n",
       "      <td>6</td>\n",
       "      <td>NaN</td>\n",
       "      <td>NaN</td>\n",
       "    </tr>\n",
       "    <tr>\n",
       "      <th>3</th>\n",
       "      <td>[]</td>\n",
       "      <td>False</td>\n",
       "      <td>Gullible_Gooney</td>\n",
       "      <td>None</td>\n",
       "      <td>[]</td>\n",
       "      <td>None</td>\n",
       "      <td>text</td>\n",
       "      <td>t2_u1iwcsil</td>\n",
       "      <td>False</td>\n",
       "      <td>False</td>\n",
       "      <td>False</td>\n",
       "      <td>[]</td>\n",
       "      <td>False</td>\n",
       "      <td>False</td>\n",
       "      <td>1667780557</td>\n",
       "      <td>self.investing</td>\n",
       "      <td>https://www.reddit.com/r/investing/comments/yo...</td>\n",
       "      <td>{}</td>\n",
       "      <td>yo7ifm</td>\n",
       "      <td>False</td>\n",
       "      <td>False</td>\n",
       "      <td>False</td>\n",
       "      <td>False</td>\n",
       "      <td>False</td>\n",
       "      <td>False</td>\n",
       "      <td>True</td>\n",
       "      <td>False</td>\n",
       "      <td></td>\n",
       "      <td>[]</td>\n",
       "      <td>dark</td>\n",
       "      <td>text</td>\n",
       "      <td>False</td>\n",
       "      <td>False</td>\n",
       "      <td>True</td>\n",
       "      <td>1</td>\n",
       "      <td>0</td>\n",
       "      <td>False</td>\n",
       "      <td>all_ads</td>\n",
       "      <td>/r/investing/comments/yo7ifm/looking_for_some_...</td>\n",
       "      <td>False</td>\n",
       "      <td>6</td>\n",
       "      <td>moderator</td>\n",
       "      <td>1667780568</td>\n",
       "      <td>1</td>\n",
       "      <td>[removed]</td>\n",
       "      <td>True</td>\n",
       "      <td>False</td>\n",
       "      <td>False</td>\n",
       "      <td>investing</td>\n",
       "      <td>t5_2qhhq</td>\n",
       "      <td>2084471</td>\n",
       "      <td>public</td>\n",
       "      <td>self</td>\n",
       "      <td>Looking for some general investment advice!</td>\n",
       "      <td>0</td>\n",
       "      <td>[]</td>\n",
       "      <td>1.0</td>\n",
       "      <td>https://www.reddit.com/r/investing/comments/yo...</td>\n",
       "      <td>all_ads</td>\n",
       "      <td>6</td>\n",
       "      <td>NaN</td>\n",
       "      <td>NaN</td>\n",
       "    </tr>\n",
       "    <tr>\n",
       "      <th>4</th>\n",
       "      <td>[]</td>\n",
       "      <td>False</td>\n",
       "      <td>yabni</td>\n",
       "      <td>None</td>\n",
       "      <td>[]</td>\n",
       "      <td>None</td>\n",
       "      <td>text</td>\n",
       "      <td>t2_dka56fo8</td>\n",
       "      <td>False</td>\n",
       "      <td>False</td>\n",
       "      <td>False</td>\n",
       "      <td>[]</td>\n",
       "      <td>False</td>\n",
       "      <td>False</td>\n",
       "      <td>1667777841</td>\n",
       "      <td>self.investing</td>\n",
       "      <td>https://www.reddit.com/r/investing/comments/yo...</td>\n",
       "      <td>{}</td>\n",
       "      <td>yo6i4e</td>\n",
       "      <td>False</td>\n",
       "      <td>False</td>\n",
       "      <td>False</td>\n",
       "      <td>False</td>\n",
       "      <td>False</td>\n",
       "      <td>False</td>\n",
       "      <td>True</td>\n",
       "      <td>False</td>\n",
       "      <td></td>\n",
       "      <td>[]</td>\n",
       "      <td>dark</td>\n",
       "      <td>text</td>\n",
       "      <td>False</td>\n",
       "      <td>False</td>\n",
       "      <td>True</td>\n",
       "      <td>1</td>\n",
       "      <td>0</td>\n",
       "      <td>False</td>\n",
       "      <td>all_ads</td>\n",
       "      <td>/r/investing/comments/yo6i4e/where_in_the_hell...</td>\n",
       "      <td>False</td>\n",
       "      <td>6</td>\n",
       "      <td>moderator</td>\n",
       "      <td>1667777851</td>\n",
       "      <td>1</td>\n",
       "      <td>[removed]</td>\n",
       "      <td>True</td>\n",
       "      <td>False</td>\n",
       "      <td>False</td>\n",
       "      <td>investing</td>\n",
       "      <td>t5_2qhhq</td>\n",
       "      <td>2084463</td>\n",
       "      <td>public</td>\n",
       "      <td>self</td>\n",
       "      <td>Where in the hell do I put money for a house d...</td>\n",
       "      <td>0</td>\n",
       "      <td>[]</td>\n",
       "      <td>1.0</td>\n",
       "      <td>https://www.reddit.com/r/investing/comments/yo...</td>\n",
       "      <td>all_ads</td>\n",
       "      <td>6</td>\n",
       "      <td>NaN</td>\n",
       "      <td>NaN</td>\n",
       "    </tr>\n",
       "  </tbody>\n",
       "</table>\n",
       "</div>"
      ],
      "text/plain": [
       "  all_awardings  allow_live_comments           author author_flair_css_class  \\\n",
       "0            []                False        MOB_Titan                   None   \n",
       "1            []                False  Thecosmodreamer                   None   \n",
       "2            []                False  Gullible_Gooney                   None   \n",
       "3            []                False  Gullible_Gooney                   None   \n",
       "4            []                False            yabni                   None   \n",
       "\n",
       "  author_flair_richtext author_flair_text author_flair_type author_fullname  \\\n",
       "0                    []              None              text     t2_g0ltgmtq   \n",
       "1                    []              None              text      t2_5jj6x3g   \n",
       "2                    []              None              text     t2_u1iwcsil   \n",
       "3                    []              None              text     t2_u1iwcsil   \n",
       "4                    []              None              text     t2_dka56fo8   \n",
       "\n",
       "   author_is_blocked  author_patreon_flair  author_premium awarders  \\\n",
       "0              False                 False           False       []   \n",
       "1              False                 False           False       []   \n",
       "2              False                 False           False       []   \n",
       "3              False                 False           False       []   \n",
       "4              False                 False           False       []   \n",
       "\n",
       "   can_mod_post  contest_mode  created_utc          domain  \\\n",
       "0         False         False   1667784827  self.investing   \n",
       "1         False         False   1667784271  self.investing   \n",
       "2         False         False   1667780623  self.investing   \n",
       "3         False         False   1667780557  self.investing   \n",
       "4         False         False   1667777841  self.investing   \n",
       "\n",
       "                                           full_link gildings      id  \\\n",
       "0  https://www.reddit.com/r/investing/comments/yo...       {}  yo91wi   \n",
       "1  https://www.reddit.com/r/investing/comments/yo...       {}  yo8uo1   \n",
       "2  https://www.reddit.com/r/investing/comments/yo...       {}  yo7jaf   \n",
       "3  https://www.reddit.com/r/investing/comments/yo...       {}  yo7ifm   \n",
       "4  https://www.reddit.com/r/investing/comments/yo...       {}  yo6i4e   \n",
       "\n",
       "   is_created_from_ads_ui  is_crosspostable  is_meta  is_original_content  \\\n",
       "0                   False             False    False                False   \n",
       "1                   False              True    False                False   \n",
       "2                   False             False    False                False   \n",
       "3                   False             False    False                False   \n",
       "4                   False             False    False                False   \n",
       "\n",
       "   is_reddit_media_domain  is_robot_indexable  is_self  is_video  \\\n",
       "0                   False               False     True     False   \n",
       "1                   False                True     True     False   \n",
       "2                   False               False     True     False   \n",
       "3                   False               False     True     False   \n",
       "4                   False               False     True     False   \n",
       "\n",
       "  link_flair_background_color link_flair_richtext link_flair_text_color  \\\n",
       "0                                              []                  dark   \n",
       "1                                              []                  dark   \n",
       "2                                              []                  dark   \n",
       "3                                              []                  dark   \n",
       "4                                              []                  dark   \n",
       "\n",
       "  link_flair_type  locked  media_only  no_follow  num_comments  \\\n",
       "0            text   False       False       True             1   \n",
       "1            text   False       False      False             0   \n",
       "2            text   False       False       True             1   \n",
       "3            text   False       False       True             1   \n",
       "4            text   False       False       True             1   \n",
       "\n",
       "   num_crossposts  over_18 parent_whitelist_status  \\\n",
       "0               0    False                 all_ads   \n",
       "1               0    False                 all_ads   \n",
       "2               0    False                 all_ads   \n",
       "3               0    False                 all_ads   \n",
       "4               0    False                 all_ads   \n",
       "\n",
       "                                           permalink  pinned  pwls  \\\n",
       "0  /r/investing/comments/yo91wi/how_do_i_invest_a...   False     6   \n",
       "1  /r/investing/comments/yo8uo1/beginning_portfol...   False     6   \n",
       "2  /r/investing/comments/yo7jaf/what_would_you_do...   False     6   \n",
       "3  /r/investing/comments/yo7ifm/looking_for_some_...   False     6   \n",
       "4  /r/investing/comments/yo6i4e/where_in_the_hell...   False     6   \n",
       "\n",
       "  removed_by_category  retrieved_on  score  \\\n",
       "0           moderator    1667784837      1   \n",
       "1                 NaN    1667784282      1   \n",
       "2           moderator    1667780633      1   \n",
       "3           moderator    1667780568      1   \n",
       "4           moderator    1667777851      1   \n",
       "\n",
       "                                            selftext  send_replies  spoiler  \\\n",
       "0                                          [removed]          True    False   \n",
       "1   \\n\\nBetter late than never, am I right? 😅\\n\\n...          True    False   \n",
       "2                                          [removed]          True    False   \n",
       "3                                          [removed]          True    False   \n",
       "4                                          [removed]          True    False   \n",
       "\n",
       "   stickied  subreddit subreddit_id  subreddit_subscribers subreddit_type  \\\n",
       "0     False  investing     t5_2qhhq                2084499         public   \n",
       "1     False  investing     t5_2qhhq                2084498         public   \n",
       "2     False  investing     t5_2qhhq                2084471         public   \n",
       "3     False  investing     t5_2qhhq                2084471         public   \n",
       "4     False  investing     t5_2qhhq                2084463         public   \n",
       "\n",
       "  thumbnail                                              title  \\\n",
       "0      self  How do I invest and trade bond positions on RH...   \n",
       "1      self                 Beginning portfolio at 40 (repost)   \n",
       "2      self             What would you do with some extra cash   \n",
       "3      self        Looking for some general investment advice!   \n",
       "4      self  Where in the hell do I put money for a house d...   \n",
       "\n",
       "   total_awards_received treatment_tags  upvote_ratio  \\\n",
       "0                      0             []           1.0   \n",
       "1                      0             []           1.0   \n",
       "2                      0             []           1.0   \n",
       "3                      0             []           1.0   \n",
       "4                      0             []           1.0   \n",
       "\n",
       "                                                 url whitelist_status  wls  \\\n",
       "0  https://www.reddit.com/r/investing/comments/yo...          all_ads    6   \n",
       "1  https://www.reddit.com/r/investing/comments/yo...          all_ads    6   \n",
       "2  https://www.reddit.com/r/investing/comments/yo...          all_ads    6   \n",
       "3  https://www.reddit.com/r/investing/comments/yo...          all_ads    6   \n",
       "4  https://www.reddit.com/r/investing/comments/yo...          all_ads    6   \n",
       "\n",
       "  post_hint preview  \n",
       "0       NaN     NaN  \n",
       "1       NaN     NaN  \n",
       "2       NaN     NaN  \n",
       "3       NaN     NaN  \n",
       "4       NaN     NaN  "
      ]
     },
     "execution_count": 4,
     "metadata": {},
     "output_type": "execute_result"
    }
   ],
   "source": [
    "# create dataframe from investing json\n",
    "investing = res_investing.json()\n",
    "investing_df = pd.DataFrame(investing['data'])\n",
    "investing_df.head()"
   ]
  },
  {
   "cell_type": "code",
   "execution_count": null,
   "metadata": {},
   "outputs": [],
   "source": [
    "for _ in range(820):\n",
    "    \n",
    "    utc = investing_df['created_utc'].min()\n",
    "    \n",
    "    res_investing = requests.get(\n",
    "        url_investing,\n",
    "        params = {\n",
    "                'subreddit': 'investing',\n",
    "                'size': 100,\n",
    "                'before': utc\n",
    "})\n",
    "    \n",
    "    print(f\"Scraping Investing Subreddit Request...{_ + 1}\")\n",
    "    \n",
    "    \n",
    "    investing = res_investing.json()\n",
    "    \n",
    "    investing_df = investing_df.append(pd.DataFrame(investing['data']),\n",
    "                                ignore_index=True)\n",
    "    \n",
    "    time.sleep(2)"
   ]
  },
  {
   "cell_type": "code",
   "execution_count": 6,
   "metadata": {},
   "outputs": [
    {
     "data": {
      "text/plain": [
       "(79912, 80)"
      ]
     },
     "execution_count": 6,
     "metadata": {},
     "output_type": "execute_result"
    }
   ],
   "source": [
    "investing_df.shape"
   ]
  },
  {
   "cell_type": "code",
   "execution_count": 7,
   "metadata": {},
   "outputs": [],
   "source": [
    "# retaining necessary columns\n",
    "investing_df = investing_df[['subreddit', 'title', 'selftext', 'created_utc']]"
   ]
  },
  {
   "cell_type": "code",
   "execution_count": 8,
   "metadata": {},
   "outputs": [
    {
     "data": {
      "text/html": [
       "<div>\n",
       "<style scoped>\n",
       "    .dataframe tbody tr th:only-of-type {\n",
       "        vertical-align: middle;\n",
       "    }\n",
       "\n",
       "    .dataframe tbody tr th {\n",
       "        vertical-align: top;\n",
       "    }\n",
       "\n",
       "    .dataframe thead th {\n",
       "        text-align: right;\n",
       "    }\n",
       "</style>\n",
       "<table border=\"1\" class=\"dataframe\">\n",
       "  <thead>\n",
       "    <tr style=\"text-align: right;\">\n",
       "      <th></th>\n",
       "      <th>subreddit</th>\n",
       "      <th>title</th>\n",
       "      <th>selftext</th>\n",
       "      <th>created_utc</th>\n",
       "    </tr>\n",
       "  </thead>\n",
       "  <tbody>\n",
       "    <tr>\n",
       "      <th>0</th>\n",
       "      <td>investing</td>\n",
       "      <td>How do I invest and trade bond positions on RH...</td>\n",
       "      <td>[removed]</td>\n",
       "      <td>1667784827</td>\n",
       "    </tr>\n",
       "    <tr>\n",
       "      <th>1</th>\n",
       "      <td>investing</td>\n",
       "      <td>Beginning portfolio at 40 (repost)</td>\n",
       "      <td>\\n\\nBetter late than never, am I right? 😅\\n\\n...</td>\n",
       "      <td>1667784271</td>\n",
       "    </tr>\n",
       "    <tr>\n",
       "      <th>2</th>\n",
       "      <td>investing</td>\n",
       "      <td>What would you do with some extra cash</td>\n",
       "      <td>[removed]</td>\n",
       "      <td>1667780623</td>\n",
       "    </tr>\n",
       "    <tr>\n",
       "      <th>3</th>\n",
       "      <td>investing</td>\n",
       "      <td>Looking for some general investment advice!</td>\n",
       "      <td>[removed]</td>\n",
       "      <td>1667780557</td>\n",
       "    </tr>\n",
       "    <tr>\n",
       "      <th>4</th>\n",
       "      <td>investing</td>\n",
       "      <td>Where in the hell do I put money for a house d...</td>\n",
       "      <td>[removed]</td>\n",
       "      <td>1667777841</td>\n",
       "    </tr>\n",
       "  </tbody>\n",
       "</table>\n",
       "</div>"
      ],
      "text/plain": [
       "   subreddit                                              title  \\\n",
       "0  investing  How do I invest and trade bond positions on RH...   \n",
       "1  investing                 Beginning portfolio at 40 (repost)   \n",
       "2  investing             What would you do with some extra cash   \n",
       "3  investing        Looking for some general investment advice!   \n",
       "4  investing  Where in the hell do I put money for a house d...   \n",
       "\n",
       "                                            selftext  created_utc  \n",
       "0                                          [removed]   1667784827  \n",
       "1   \\n\\nBetter late than never, am I right? 😅\\n\\n...   1667784271  \n",
       "2                                          [removed]   1667780623  \n",
       "3                                          [removed]   1667780557  \n",
       "4                                          [removed]   1667777841  "
      ]
     },
     "execution_count": 8,
     "metadata": {},
     "output_type": "execute_result"
    }
   ],
   "source": [
    "investing_df.head()"
   ]
  },
  {
   "cell_type": "code",
   "execution_count": 9,
   "metadata": {},
   "outputs": [
    {
     "data": {
      "text/plain": [
       "200"
      ]
     },
     "execution_count": 9,
     "metadata": {},
     "output_type": "execute_result"
    }
   ],
   "source": [
    "# wallstreetbets url initial request \n",
    "url_wallst = url + 'subreddit=wallstreetbets'\n",
    "\n",
    "res_wallst = requests.get(url_wallst)\n",
    "res_wallst.status_code"
   ]
  },
  {
   "cell_type": "code",
   "execution_count": 10,
   "metadata": {},
   "outputs": [],
   "source": [
    "# create dataframe from wallst_json\n",
    "bets = res_wallst.json()\n",
    "bets_df = pd.DataFrame(bets['data'])"
   ]
  },
  {
   "cell_type": "code",
   "execution_count": null,
   "metadata": {},
   "outputs": [],
   "source": [
    "#for loop to create observations of wallstreetbets postings\n",
    "\n",
    "for _ in range(820):\n",
    "    \n",
    "    utc = bets_df['created_utc'].min()\n",
    "    \n",
    "    res_wallst = requests.get(url_wallst,\n",
    "        params = {\n",
    "                'subreddit': 'wallstreetbets',\n",
    "                'size': 100,\n",
    "                'before': utc\n",
    "})\n",
    "                            \n",
    "    \n",
    "    print(f\"Scraping wallstbets Subreddit Request...{_ + 1}\")\n",
    "    \n",
    "    \n",
    "    bets = res_wallst.json()\n",
    "    \n",
    "    bets_df = bets_df.append(pd.DataFrame(bets['data']),\n",
    "                                ignore_index=True)\n",
    "    \n",
    "    time.sleep(2)"
   ]
  },
  {
   "cell_type": "code",
   "execution_count": 35,
   "metadata": {},
   "outputs": [
    {
     "data": {
      "text/plain": [
       "(125558, 87)"
      ]
     },
     "execution_count": 35,
     "metadata": {},
     "output_type": "execute_result"
    }
   ],
   "source": [
    "bets_df.shape"
   ]
  },
  {
   "cell_type": "code",
   "execution_count": 36,
   "metadata": {},
   "outputs": [
    {
     "data": {
      "text/html": [
       "<div>\n",
       "<style scoped>\n",
       "    .dataframe tbody tr th:only-of-type {\n",
       "        vertical-align: middle;\n",
       "    }\n",
       "\n",
       "    .dataframe tbody tr th {\n",
       "        vertical-align: top;\n",
       "    }\n",
       "\n",
       "    .dataframe thead th {\n",
       "        text-align: right;\n",
       "    }\n",
       "</style>\n",
       "<table border=\"1\" class=\"dataframe\">\n",
       "  <thead>\n",
       "    <tr style=\"text-align: right;\">\n",
       "      <th></th>\n",
       "      <th>subreddit</th>\n",
       "      <th>title</th>\n",
       "      <th>selftext</th>\n",
       "      <th>created_utc</th>\n",
       "    </tr>\n",
       "  </thead>\n",
       "  <tbody>\n",
       "    <tr>\n",
       "      <th>0</th>\n",
       "      <td>wallstreetbets</td>\n",
       "      <td>How to draw a straight line ( with Treasury Bo...</td>\n",
       "      <td></td>\n",
       "      <td>1667788727</td>\n",
       "    </tr>\n",
       "    <tr>\n",
       "      <th>1</th>\n",
       "      <td>wallstreetbets</td>\n",
       "      <td>Brilliant idea</td>\n",
       "      <td>[removed]</td>\n",
       "      <td>1667788468</td>\n",
       "    </tr>\n",
       "    <tr>\n",
       "      <th>2</th>\n",
       "      <td>wallstreetbets</td>\n",
       "      <td>3rd Largest Rent Cuts Since 2010 - I’m going l...</td>\n",
       "      <td></td>\n",
       "      <td>1667788195</td>\n",
       "    </tr>\n",
       "    <tr>\n",
       "      <th>3</th>\n",
       "      <td>wallstreetbets</td>\n",
       "      <td>UK Index analysis</td>\n",
       "      <td>[removed]</td>\n",
       "      <td>1667788038</td>\n",
       "    </tr>\n",
       "    <tr>\n",
       "      <th>4</th>\n",
       "      <td>wallstreetbets</td>\n",
       "      <td>What Stocks Are In The Web 3 Space?</td>\n",
       "      <td>[removed]</td>\n",
       "      <td>1667787863</td>\n",
       "    </tr>\n",
       "  </tbody>\n",
       "</table>\n",
       "</div>"
      ],
      "text/plain": [
       "        subreddit                                              title  \\\n",
       "0  wallstreetbets  How to draw a straight line ( with Treasury Bo...   \n",
       "1  wallstreetbets                                     Brilliant idea   \n",
       "2  wallstreetbets  3rd Largest Rent Cuts Since 2010 - I’m going l...   \n",
       "3  wallstreetbets                                  UK Index analysis   \n",
       "4  wallstreetbets                What Stocks Are In The Web 3 Space?   \n",
       "\n",
       "    selftext  created_utc  \n",
       "0              1667788727  \n",
       "1  [removed]   1667788468  \n",
       "2              1667788195  \n",
       "3  [removed]   1667788038  \n",
       "4  [removed]   1667787863  "
      ]
     },
     "execution_count": 36,
     "metadata": {},
     "output_type": "execute_result"
    }
   ],
   "source": [
    "# retaining necessary columns\n",
    "bets_df = bets_df[['subreddit', 'title', 'selftext', 'created_utc']]\n",
    "bets_df.head()"
   ]
  },
  {
   "cell_type": "code",
   "execution_count": 60,
   "metadata": {},
   "outputs": [
    {
     "name": "stdout",
     "output_type": "stream",
     "text": [
      "<class 'pandas.core.frame.DataFrame'>\n",
      "Int64Index: 205470 entries, 0 to 125557\n",
      "Data columns (total 4 columns):\n",
      " #   Column       Non-Null Count   Dtype \n",
      "---  ------       --------------   ----- \n",
      " 0   subreddit    205470 non-null  object\n",
      " 1   title        205470 non-null  object\n",
      " 2   selftext     203154 non-null  object\n",
      " 3   created_utc  205470 non-null  int64 \n",
      "dtypes: int64(1), object(3)\n",
      "memory usage: 7.8+ MB\n"
     ]
    }
   ],
   "source": [
    "# concatenating both dataframes into one\n",
    "reddit = pd.concat([investing_df, bets_df], axis=0)\n",
    "reddit.info()"
   ]
  },
  {
   "cell_type": "code",
   "execution_count": 61,
   "metadata": {},
   "outputs": [
    {
     "data": {
      "text/plain": [
       "(205470, 4)"
      ]
     },
     "execution_count": 61,
     "metadata": {},
     "output_type": "execute_result"
    }
   ],
   "source": [
    "reddit.shape"
   ]
  },
  {
   "cell_type": "code",
   "execution_count": 62,
   "metadata": {},
   "outputs": [
    {
     "data": {
      "text/plain": [
       "36"
      ]
     },
     "execution_count": 62,
     "metadata": {},
     "output_type": "execute_result"
    }
   ],
   "source": [
    "# checking for any duplicated posts\n",
    "reddit.duplicated().sum()"
   ]
  },
  {
   "cell_type": "code",
   "execution_count": 63,
   "metadata": {},
   "outputs": [],
   "source": [
    "# dropping any duplicate posts\n",
    "reddit.drop_duplicates(inplace=True)"
   ]
  },
  {
   "cell_type": "code",
   "execution_count": 64,
   "metadata": {},
   "outputs": [
    {
     "data": {
      "text/plain": [
       "subreddit         0\n",
       "title             0\n",
       "selftext       2316\n",
       "created_utc       0\n",
       "dtype: int64"
      ]
     },
     "execution_count": 64,
     "metadata": {},
     "output_type": "execute_result"
    }
   ],
   "source": [
    "# checking for nulls\n",
    "reddit.isnull().sum()"
   ]
  },
  {
   "cell_type": "code",
   "execution_count": 65,
   "metadata": {},
   "outputs": [
    {
     "data": {
      "text/plain": [
       "wallstreetbets    125409\n",
       "investing          77709\n",
       "Name: subreddit, dtype: int64"
      ]
     },
     "execution_count": 65,
     "metadata": {},
     "output_type": "execute_result"
    }
   ],
   "source": [
    "reddit.dropna(inplace=True, how='any', axis=0)\n",
    "reddit['subreddit'].value_counts()"
   ]
  },
  {
   "cell_type": "code",
   "execution_count": 66,
   "metadata": {},
   "outputs": [],
   "source": [
    "reddit['word_count'] = reddit['selftext'].map(lambda x: len(x.split()))"
   ]
  },
  {
   "cell_type": "code",
   "execution_count": 67,
   "metadata": {},
   "outputs": [
    {
     "data": {
      "text/plain": [
       "157255"
      ]
     },
     "execution_count": 67,
     "metadata": {},
     "output_type": "execute_result"
    }
   ],
   "source": [
    "# dropping observations with self_text == [removed] or with too few words\n",
    "removed_self_text = reddit[ (reddit['selftext'] == '[removed]') | (reddit['word_count']<5)]\n",
    "reddit.drop(index=removed_self_text.index, inplace=True)\n",
    "len(removed_self_text)"
   ]
  },
  {
   "cell_type": "code",
   "execution_count": 68,
   "metadata": {},
   "outputs": [
    {
     "data": {
      "text/html": [
       "<div>\n",
       "<style scoped>\n",
       "    .dataframe tbody tr th:only-of-type {\n",
       "        vertical-align: middle;\n",
       "    }\n",
       "\n",
       "    .dataframe tbody tr th {\n",
       "        vertical-align: top;\n",
       "    }\n",
       "\n",
       "    .dataframe thead th {\n",
       "        text-align: right;\n",
       "    }\n",
       "</style>\n",
       "<table border=\"1\" class=\"dataframe\">\n",
       "  <thead>\n",
       "    <tr style=\"text-align: right;\">\n",
       "      <th></th>\n",
       "      <th>subreddit</th>\n",
       "      <th>title</th>\n",
       "      <th>selftext</th>\n",
       "      <th>created_utc</th>\n",
       "      <th>word_count</th>\n",
       "    </tr>\n",
       "  </thead>\n",
       "  <tbody>\n",
       "  </tbody>\n",
       "</table>\n",
       "</div>"
      ],
      "text/plain": [
       "Empty DataFrame\n",
       "Columns: [subreddit, title, selftext, created_utc, word_count]\n",
       "Index: []"
      ]
     },
     "execution_count": 68,
     "metadata": {},
     "output_type": "execute_result"
    }
   ],
   "source": [
    "reddit[reddit['selftext'] == '[removed]']"
   ]
  },
  {
   "cell_type": "code",
   "execution_count": 69,
   "metadata": {},
   "outputs": [
    {
     "data": {
      "text/html": [
       "<div>\n",
       "<style scoped>\n",
       "    .dataframe tbody tr th:only-of-type {\n",
       "        vertical-align: middle;\n",
       "    }\n",
       "\n",
       "    .dataframe tbody tr th {\n",
       "        vertical-align: top;\n",
       "    }\n",
       "\n",
       "    .dataframe thead th {\n",
       "        text-align: right;\n",
       "    }\n",
       "</style>\n",
       "<table border=\"1\" class=\"dataframe\">\n",
       "  <thead>\n",
       "    <tr style=\"text-align: right;\">\n",
       "      <th></th>\n",
       "      <th>subreddit</th>\n",
       "      <th>title</th>\n",
       "      <th>selftext</th>\n",
       "      <th>created_utc</th>\n",
       "      <th>word_count</th>\n",
       "    </tr>\n",
       "  </thead>\n",
       "  <tbody>\n",
       "  </tbody>\n",
       "</table>\n",
       "</div>"
      ],
      "text/plain": [
       "Empty DataFrame\n",
       "Columns: [subreddit, title, selftext, created_utc, word_count]\n",
       "Index: []"
      ]
     },
     "execution_count": 69,
     "metadata": {},
     "output_type": "execute_result"
    }
   ],
   "source": [
    "reddit[reddit['selftext'] == '[deleted]']"
   ]
  },
  {
   "cell_type": "code",
   "execution_count": 70,
   "metadata": {},
   "outputs": [
    {
     "data": {
      "text/html": [
       "<div>\n",
       "<style scoped>\n",
       "    .dataframe tbody tr th:only-of-type {\n",
       "        vertical-align: middle;\n",
       "    }\n",
       "\n",
       "    .dataframe tbody tr th {\n",
       "        vertical-align: top;\n",
       "    }\n",
       "\n",
       "    .dataframe thead th {\n",
       "        text-align: right;\n",
       "    }\n",
       "</style>\n",
       "<table border=\"1\" class=\"dataframe\">\n",
       "  <thead>\n",
       "    <tr style=\"text-align: right;\">\n",
       "      <th></th>\n",
       "      <th>subreddit</th>\n",
       "      <th>title</th>\n",
       "      <th>selftext</th>\n",
       "      <th>created_utc</th>\n",
       "      <th>word_count</th>\n",
       "    </tr>\n",
       "  </thead>\n",
       "  <tbody>\n",
       "  </tbody>\n",
       "</table>\n",
       "</div>"
      ],
      "text/plain": [
       "Empty DataFrame\n",
       "Columns: [subreddit, title, selftext, created_utc, word_count]\n",
       "Index: []"
      ]
     },
     "execution_count": 70,
     "metadata": {},
     "output_type": "execute_result"
    }
   ],
   "source": [
    "reddit[reddit['selftext'].str.len()<5]"
   ]
  },
  {
   "cell_type": "code",
   "execution_count": 71,
   "metadata": {},
   "outputs": [
    {
     "data": {
      "text/plain": [
       "wallstreetbets    14766\n",
       "investing          4050\n",
       "Name: subreddit, dtype: int64"
      ]
     },
     "execution_count": 71,
     "metadata": {},
     "output_type": "execute_result"
    }
   ],
   "source": [
    "# checking for if 2 subreddits are balanced \n",
    "reddit['subreddit'].value_counts()"
   ]
  },
  {
   "cell_type": "code",
   "execution_count": 50,
   "metadata": {},
   "outputs": [
    {
     "data": {
      "text/plain": [
       "wallstreetbets    14766\n",
       "investing          4050\n",
       "Name: subreddit, dtype: int64"
      ]
     },
     "execution_count": 50,
     "metadata": {},
     "output_type": "execute_result"
    }
   ],
   "source": [
    "reddit['subreddit'].value_counts()"
   ]
  },
  {
   "cell_type": "code",
   "execution_count": 56,
   "metadata": {},
   "outputs": [
    {
     "data": {
      "text/plain": [
       "1609702546"
      ]
     },
     "execution_count": 56,
     "metadata": {},
     "output_type": "execute_result"
    }
   ],
   "source": [
    "investing_df['created_utc'].min()"
   ]
  },
  {
   "cell_type": "code",
   "execution_count": null,
   "metadata": {},
   "outputs": [],
   "source": [
    "# scrap more from r/investing\n",
    "# create dataframe from investing json\n",
    "\n",
    "\n",
    "new_res_investing = requests.get(url_investing, params = {\n",
    "                'subreddit': 'investing',\n",
    "                'size': 100,\n",
    "                'before': 1609702546})\n",
    "\n",
    "investing = new_res_investing.json()\n",
    "new_investing_df = pd.DataFrame(investing['data'])\n",
    "\n",
    "\n",
    "for _ in range(26):\n",
    "    \n",
    "    utc = new_investing_df['created_utc'].min()\n",
    "    \n",
    "    new_res_investing = requests.get(\n",
    "        url_investing,\n",
    "        params = {\n",
    "                'subreddit': 'investing',\n",
    "                'size': 100,\n",
    "                'before': utc\n",
    "})\n",
    "    \n",
    "    print(f\"Scraping Investing Subreddit Request...{_ + 1}\")\n",
    "    \n",
    "    \n",
    "    investing = new_res_investing.json()\n",
    "    \n",
    "    new_investing_df = new_investing_df.append(pd.DataFrame(investing['data']),\n",
    "                                ignore_index=True)\n",
    "    \n",
    "    time.sleep(2)"
   ]
  },
  {
   "cell_type": "code",
   "execution_count": 107,
   "metadata": {},
   "outputs": [
    {
     "data": {
      "text/plain": [
       "wallstreetbets    14708\n",
       "investing          5656\n",
       "Name: subreddit, dtype: int64"
      ]
     },
     "execution_count": 107,
     "metadata": {},
     "output_type": "execute_result"
    }
   ],
   "source": [
    "new_investing_df = new_investing_df[['subreddit', 'title', 'selftext', 'created_utc']]\n",
    "new_investing_df.drop_duplicates(inplace=True)\n",
    "new_investing_df.dropna(inplace=True, how='any', axis=0)\n",
    "new_investing_df['word_count'] = new_investing_df['selftext'].map(lambda x: len(x.split()))\n",
    "reddit_n = pd.concat([reddit, new_investing_df], axis=0)\n",
    "removed = reddit_n[reddit_n['word_count']<5]\n",
    "reddit_n.drop(index=removed.index, inplace=True)\n",
    "reddit_n['subreddit'].value_counts()"
   ]
  },
  {
   "cell_type": "code",
   "execution_count": 108,
   "metadata": {},
   "outputs": [
    {
     "data": {
      "text/html": [
       "<div>\n",
       "<style scoped>\n",
       "    .dataframe tbody tr th:only-of-type {\n",
       "        vertical-align: middle;\n",
       "    }\n",
       "\n",
       "    .dataframe tbody tr th {\n",
       "        vertical-align: top;\n",
       "    }\n",
       "\n",
       "    .dataframe thead th {\n",
       "        text-align: right;\n",
       "    }\n",
       "</style>\n",
       "<table border=\"1\" class=\"dataframe\">\n",
       "  <thead>\n",
       "    <tr style=\"text-align: right;\">\n",
       "      <th></th>\n",
       "      <th>subreddit</th>\n",
       "      <th>title</th>\n",
       "      <th>selftext</th>\n",
       "      <th>created_utc</th>\n",
       "      <th>word_count</th>\n",
       "    </tr>\n",
       "  </thead>\n",
       "  <tbody>\n",
       "    <tr>\n",
       "      <th>33</th>\n",
       "      <td>investing</td>\n",
       "      <td>How do stock brokers work?</td>\n",
       "      <td>In real world scenarios, how effective are sto...</td>\n",
       "      <td>1667753346</td>\n",
       "      <td>56</td>\n",
       "    </tr>\n",
       "    <tr>\n",
       "      <th>34</th>\n",
       "      <td>investing</td>\n",
       "      <td>What do you think about this allocation approach?</td>\n",
       "      <td>Google\\t15.00%\\n\\nBlock\\t10.00%\\n\\nTesla\\t10.0...</td>\n",
       "      <td>1667753199</td>\n",
       "      <td>91</td>\n",
       "    </tr>\n",
       "    <tr>\n",
       "      <th>80</th>\n",
       "      <td>investing</td>\n",
       "      <td>US Series I Bond Still Worth it?</td>\n",
       "      <td>Hey Guys. Currently considering investing 10k ...</td>\n",
       "      <td>1667682921</td>\n",
       "      <td>114</td>\n",
       "    </tr>\n",
       "    <tr>\n",
       "      <th>82</th>\n",
       "      <td>investing</td>\n",
       "      <td>Struggling to look at the long term…</td>\n",
       "      <td>How does everybody feel about the idea of “foc...</td>\n",
       "      <td>1667682410</td>\n",
       "      <td>46</td>\n",
       "    </tr>\n",
       "    <tr>\n",
       "      <th>200</th>\n",
       "      <td>investing</td>\n",
       "      <td>Feedback: Moving From Vanguard to NFS Custodial</td>\n",
       "      <td>Hi,\\n\\nJust looking for a gut check, as this i...</td>\n",
       "      <td>1667571275</td>\n",
       "      <td>195</td>\n",
       "    </tr>\n",
       "  </tbody>\n",
       "</table>\n",
       "</div>"
      ],
      "text/plain": [
       "     subreddit                                              title  \\\n",
       "33   investing                         How do stock brokers work?   \n",
       "34   investing  What do you think about this allocation approach?   \n",
       "80   investing                   US Series I Bond Still Worth it?   \n",
       "82   investing               Struggling to look at the long term…   \n",
       "200  investing    Feedback: Moving From Vanguard to NFS Custodial   \n",
       "\n",
       "                                              selftext  created_utc  \\\n",
       "33   In real world scenarios, how effective are sto...   1667753346   \n",
       "34   Google\\t15.00%\\n\\nBlock\\t10.00%\\n\\nTesla\\t10.0...   1667753199   \n",
       "80   Hey Guys. Currently considering investing 10k ...   1667682921   \n",
       "82   How does everybody feel about the idea of “foc...   1667682410   \n",
       "200  Hi,\\n\\nJust looking for a gut check, as this i...   1667571275   \n",
       "\n",
       "     word_count  \n",
       "33           56  \n",
       "34           91  \n",
       "80          114  \n",
       "82           46  \n",
       "200         195  "
      ]
     },
     "execution_count": 108,
     "metadata": {},
     "output_type": "execute_result"
    }
   ],
   "source": [
    "reddit_n.head()"
   ]
  },
  {
   "cell_type": "code",
   "execution_count": 109,
   "metadata": {},
   "outputs": [
    {
     "name": "stdout",
     "output_type": "stream",
     "text": [
      "<class 'pandas.core.frame.DataFrame'>\n",
      "Int64Index: 5656 entries, 2691 to 33\n",
      "Data columns (total 5 columns):\n",
      " #   Column       Non-Null Count  Dtype \n",
      "---  ------       --------------  ----- \n",
      " 0   subreddit    5656 non-null   object\n",
      " 1   title        5656 non-null   object\n",
      " 2   selftext     5656 non-null   object\n",
      " 3   created_utc  5656 non-null   int64 \n",
      " 4   word_count   5656 non-null   int64 \n",
      "dtypes: int64(2), object(3)\n",
      "memory usage: 265.1+ KB\n"
     ]
    }
   ],
   "source": [
    "reddit_n = reddit_n.sort_values(['subreddit','created_utc'])\n",
    "inst = reddit_n[:5656]\n",
    "inst.info()"
   ]
  },
  {
   "cell_type": "code",
   "execution_count": 111,
   "metadata": {},
   "outputs": [
    {
     "name": "stdout",
     "output_type": "stream",
     "text": [
      "<class 'pandas.core.frame.DataFrame'>\n",
      "Int64Index: 5656 entries, 125536 to 97894\n",
      "Data columns (total 5 columns):\n",
      " #   Column       Non-Null Count  Dtype \n",
      "---  ------       --------------  ----- \n",
      " 0   subreddit    5656 non-null   object\n",
      " 1   title        5656 non-null   object\n",
      " 2   selftext     5656 non-null   object\n",
      " 3   created_utc  5656 non-null   int64 \n",
      " 4   word_count   5656 non-null   int64 \n",
      "dtypes: int64(2), object(3)\n",
      "memory usage: 265.1+ KB\n"
     ]
    }
   ],
   "source": [
    "wsb = reddit_n[5656:11312]\n",
    "wsb.info()"
   ]
  },
  {
   "cell_type": "code",
   "execution_count": 112,
   "metadata": {},
   "outputs": [
    {
     "data": {
      "text/plain": [
       "investing         5656\n",
       "wallstreetbets    5656\n",
       "Name: subreddit, dtype: int64"
      ]
     },
     "execution_count": 112,
     "metadata": {},
     "output_type": "execute_result"
    }
   ],
   "source": [
    "red_balanced = pd.concat([inst, wsb], axis=0)\n",
    "red_balanced['subreddit'].value_counts()"
   ]
  },
  {
   "cell_type": "code",
   "execution_count": 113,
   "metadata": {},
   "outputs": [
    {
     "data": {
      "text/html": [
       "<div>\n",
       "<style scoped>\n",
       "    .dataframe tbody tr th:only-of-type {\n",
       "        vertical-align: middle;\n",
       "    }\n",
       "\n",
       "    .dataframe tbody tr th {\n",
       "        vertical-align: top;\n",
       "    }\n",
       "\n",
       "    .dataframe thead th {\n",
       "        text-align: right;\n",
       "    }\n",
       "</style>\n",
       "<table border=\"1\" class=\"dataframe\">\n",
       "  <thead>\n",
       "    <tr style=\"text-align: right;\">\n",
       "      <th></th>\n",
       "      <th>subreddit</th>\n",
       "      <th>title</th>\n",
       "      <th>selftext</th>\n",
       "      <th>created_utc</th>\n",
       "      <th>word_count</th>\n",
       "    </tr>\n",
       "  </thead>\n",
       "  <tbody>\n",
       "    <tr>\n",
       "      <th>2691</th>\n",
       "      <td>investing</td>\n",
       "      <td>Why has SCHB been outperforming SWTSX a little...</td>\n",
       "      <td>SCHB is a US broad market ETF, and SWTSX is a ...</td>\n",
       "      <td>1608335085</td>\n",
       "      <td>103</td>\n",
       "    </tr>\n",
       "    <tr>\n",
       "      <th>2688</th>\n",
       "      <td>investing</td>\n",
       "      <td>Is Lithium Overpriced? Is anything cheap?</td>\n",
       "      <td>I have been wanting to get into lithium for a ...</td>\n",
       "      <td>1608335945</td>\n",
       "      <td>67</td>\n",
       "    </tr>\n",
       "    <tr>\n",
       "      <th>2681</th>\n",
       "      <td>investing</td>\n",
       "      <td>Favorite \"Game Changer\" Technology Picks?</td>\n",
       "      <td>If QS can get solid-state to \"work\" (a big que...</td>\n",
       "      <td>1608338046</td>\n",
       "      <td>92</td>\n",
       "    </tr>\n",
       "    <tr>\n",
       "      <th>2677</th>\n",
       "      <td>investing</td>\n",
       "      <td>BFT: Juicy looking Acquisition</td>\n",
       "      <td>Hey Guys, for once I've done some actual DD an...</td>\n",
       "      <td>1608339518</td>\n",
       "      <td>130</td>\n",
       "    </tr>\n",
       "    <tr>\n",
       "      <th>2676</th>\n",
       "      <td>investing</td>\n",
       "      <td>Tesla Shares Hit Record After Last-Minute Surg...</td>\n",
       "      <td>&amp;gt;Tesla Inc. shares roared to a record high ...</td>\n",
       "      <td>1608340295</td>\n",
       "      <td>218</td>\n",
       "    </tr>\n",
       "  </tbody>\n",
       "</table>\n",
       "</div>"
      ],
      "text/plain": [
       "      subreddit                                              title  \\\n",
       "2691  investing  Why has SCHB been outperforming SWTSX a little...   \n",
       "2688  investing          Is Lithium Overpriced? Is anything cheap?   \n",
       "2681  investing          Favorite \"Game Changer\" Technology Picks?   \n",
       "2677  investing                     BFT: Juicy looking Acquisition   \n",
       "2676  investing  Tesla Shares Hit Record After Last-Minute Surg...   \n",
       "\n",
       "                                               selftext  created_utc  \\\n",
       "2691  SCHB is a US broad market ETF, and SWTSX is a ...   1608335085   \n",
       "2688  I have been wanting to get into lithium for a ...   1608335945   \n",
       "2681  If QS can get solid-state to \"work\" (a big que...   1608338046   \n",
       "2677  Hey Guys, for once I've done some actual DD an...   1608339518   \n",
       "2676  &gt;Tesla Inc. shares roared to a record high ...   1608340295   \n",
       "\n",
       "      word_count  \n",
       "2691         103  \n",
       "2688          67  \n",
       "2681          92  \n",
       "2677         130  \n",
       "2676         218  "
      ]
     },
     "execution_count": 113,
     "metadata": {},
     "output_type": "execute_result"
    }
   ],
   "source": [
    "red_balanced.head()"
   ]
  },
  {
   "cell_type": "code",
   "execution_count": 114,
   "metadata": {},
   "outputs": [],
   "source": [
    "red_balanced.to_csv('reddit_clean.csv', index=False)"
   ]
  }
 ],
 "metadata": {
  "kernelspec": {
   "display_name": "Python 3.9.12 ('base')",
   "language": "python",
   "name": "python3"
  },
  "language_info": {
   "codemirror_mode": {
    "name": "ipython",
    "version": 3
   },
   "file_extension": ".py",
   "mimetype": "text/x-python",
   "name": "python",
   "nbconvert_exporter": "python",
   "pygments_lexer": "ipython3",
   "version": "3.9.12"
  },
  "orig_nbformat": 4,
  "vscode": {
   "interpreter": {
    "hash": "413e33381bdc50bcb6ec31cde5fd333ab8a35bce4ebe7073ac38c207a09a349f"
   }
  }
 },
 "nbformat": 4,
 "nbformat_minor": 2
}
