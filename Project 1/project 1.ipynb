{
 "cells": [
  {
   "cell_type": "markdown",
   "id": "075a8044",
   "metadata": {},
   "source": [
    "# ACT or SAT? That is a question"
   ]
  },
  {
   "cell_type": "markdown",
   "id": "f9d29d6e",
   "metadata": {},
   "source": [
    "## Background: <br>\n",
    "Accordind to a 2015 reserch done by Hanover Research , (https://www.hartlandschools.us/documents/curriculum/PLAN-PSAT-ACT-SAT%20Assessment%20Correlations%20-%20Washtenaw%20ISD%202015.pdf) ,\n",
    "\"even with small sample sizes, ACT performance is strongly predictive of SAT performance,\n",
    "and this relationship is statistically significant at the 99 percent level\". <br>\n",
    "\n",
    "Based on this reserch, we assume that both ACT and SAT score can equivalently reflect a student's acadimic capability. In other words, student who scores high on SAT tends to score high in ACT as well and we assume students who take ACT and SAT are in same level, i.e it's not that bad students prefer ACT and good student freper SAT etc.)"
   ]
  },
  {
   "cell_type": "markdown",
   "id": "12e612af",
   "metadata": {},
   "source": [
    "## Problem statement\n",
    "I work for a school district that has asked me to advise their high school students on what SAT or ACT score they should be aiming for based on their intended area of study or school preferences. Due to tightness of timeline, students can not take both exams. So they have to make the correct choice."
   ]
  },
  {
   "cell_type": "markdown",
   "id": "890e4d83",
   "metadata": {},
   "source": [
    "## Data processing"
   ]
  },
  {
   "cell_type": "code",
   "execution_count": 1,
   "id": "e9566202",
   "metadata": {},
   "outputs": [],
   "source": [
    "import numpy as np\n",
    "import pandas as pd\n",
    "from matplotlib import pyplot as plt\n",
    "from scipy.optimize import curve_fit\n",
    "import seaborn as sns\n",
    "import statsmodels.api as sm\n",
    "import statsmodels.stats as stats \n",
    "from statsmodels.formula.api import ols\n",
    "from statsmodels.stats.outliers_influence import OLSInfluence as olsi\n",
    "from sklearn.linear_model import LinearRegression\n",
    "from sklearn import metrics"
   ]
  },
  {
   "cell_type": "markdown",
   "id": "22e1c27b",
   "metadata": {},
   "source": [
    "https://www.analyze-ed.com/average-act-score.html"
   ]
  },
  {
   "cell_type": "code",
   "execution_count": 2,
   "id": "5acb40e6",
   "metadata": {},
   "outputs": [],
   "source": [
    "df1 = pd.read_csv('SAT.csv')\n",
    "act = pd.read_csv('ACT.csv',sep='\\t').iloc[:-1]\n",
    "acceptance = pd.read_csv('sat_act_by_college.txt')"
   ]
  },
  {
   "cell_type": "code",
   "execution_count": 3,
   "id": "e5ed9c39",
   "metadata": {},
   "outputs": [],
   "source": [
    "def insert(df,i,j,df_add):\n",
    "    df1 = df.iloc[:i,:]\n",
    "    df2 = df.iloc[j:,:]\n",
    "    df_new = pd.concat([df1,df_add,df2],ignore_index=True)\n",
    "    return df_new"
   ]
  },
  {
   "cell_type": "code",
   "execution_count": 4,
   "id": "2ce4cab1",
   "metadata": {},
   "outputs": [
    {
     "data": {
      "text/html": [
       "<div>\n",
       "<style scoped>\n",
       "    .dataframe tbody tr th:only-of-type {\n",
       "        vertical-align: middle;\n",
       "    }\n",
       "\n",
       "    .dataframe tbody tr th {\n",
       "        vertical-align: top;\n",
       "    }\n",
       "\n",
       "    .dataframe thead th {\n",
       "        text-align: right;\n",
       "    }\n",
       "</style>\n",
       "<table border=\"1\" class=\"dataframe\">\n",
       "  <thead>\n",
       "    <tr style=\"text-align: right;\">\n",
       "      <th></th>\n",
       "      <th>Degree-level goal and intended college major</th>\n",
       "      <th>Total SAT</th>\n",
       "    </tr>\n",
       "  </thead>\n",
       "  <tbody>\n",
       "    <tr>\n",
       "      <th>0</th>\n",
       "      <td>Agriculture</td>\n",
       "      <td>968.00</td>\n",
       "    </tr>\n",
       "    <tr>\n",
       "      <th>1</th>\n",
       "      <td>Architecture</td>\n",
       "      <td>1042.00</td>\n",
       "    </tr>\n",
       "    <tr>\n",
       "      <th>2</th>\n",
       "      <td>Arts: Visual &amp; Performing</td>\n",
       "      <td>1047.00</td>\n",
       "    </tr>\n",
       "    <tr>\n",
       "      <th>3</th>\n",
       "      <td>Business</td>\n",
       "      <td>1066.00</td>\n",
       "    </tr>\n",
       "    <tr>\n",
       "      <th>4</th>\n",
       "      <td>Communication and journalism</td>\n",
       "      <td>1066.00</td>\n",
       "    </tr>\n",
       "    <tr>\n",
       "      <th>5</th>\n",
       "      <td>Community, Family, &amp; Personal Services</td>\n",
       "      <td>952.00</td>\n",
       "    </tr>\n",
       "    <tr>\n",
       "      <th>6</th>\n",
       "      <td>Computer and intormation sciences</td>\n",
       "      <td>1156.00</td>\n",
       "    </tr>\n",
       "    <tr>\n",
       "      <th>7</th>\n",
       "      <td>Edcation</td>\n",
       "      <td>1021.00</td>\n",
       "    </tr>\n",
       "    <tr>\n",
       "      <th>8</th>\n",
       "      <td>Engineering</td>\n",
       "      <td>1140.00</td>\n",
       "    </tr>\n",
       "    <tr>\n",
       "      <th>9</th>\n",
       "      <td>English &amp; Foreign Languages</td>\n",
       "      <td>1108.50</td>\n",
       "    </tr>\n",
       "    <tr>\n",
       "      <th>10</th>\n",
       "      <td>Health Sciences &amp; Technologies</td>\n",
       "      <td>1044.00</td>\n",
       "    </tr>\n",
       "    <tr>\n",
       "      <th>11</th>\n",
       "      <td>Repair, Production, &amp; Construction</td>\n",
       "      <td>921.00</td>\n",
       "    </tr>\n",
       "    <tr>\n",
       "      <th>12</th>\n",
       "      <td>Sciences: Biological &amp; Physical</td>\n",
       "      <td>1163.75</td>\n",
       "    </tr>\n",
       "    <tr>\n",
       "      <th>13</th>\n",
       "      <td>Social Science &amp; law</td>\n",
       "      <td>1136.50</td>\n",
       "    </tr>\n",
       "  </tbody>\n",
       "</table>\n",
       "</div>"
      ],
      "text/plain": [
       "   Degree-level goal and intended college major  Total SAT\n",
       "0                                   Agriculture     968.00\n",
       "1                                  Architecture    1042.00\n",
       "2                     Arts: Visual & Performing    1047.00\n",
       "3                                      Business    1066.00\n",
       "4                  Communication and journalism    1066.00\n",
       "5        Community, Family, & Personal Services     952.00\n",
       "6             Computer and intormation sciences    1156.00\n",
       "7                                      Edcation    1021.00\n",
       "8                                   Engineering    1140.00\n",
       "9                   English & Foreign Languages    1108.50\n",
       "10               Health Sciences & Technologies    1044.00\n",
       "11           Repair, Production, & Construction     921.00\n",
       "12              Sciences: Biological & Physical    1163.75\n",
       "13                         Social Science & law    1136.50"
      ]
     },
     "execution_count": 4,
     "metadata": {},
     "output_type": "execute_result"
    }
   ],
   "source": [
    "d = {\"Degree-level goal and intended college major\": \"Sciences: Biological & Physical\", \\\n",
    "     'Total SAT':df1.iloc[12:16,1:].mean()}\n",
    "df_add = pd.DataFrame(data=d)\n",
    "\n",
    "sat = insert(df1,12,16,df_add)\n",
    "\n",
    "sat\n",
    "#df.merge()"
   ]
  },
  {
   "cell_type": "code",
   "execution_count": 5,
   "id": "d13e96bd",
   "metadata": {},
   "outputs": [],
   "source": [
    "acceptance['SAT Total 25th-75th Percentile']=acceptance['SAT Total 25th-75th Percentile'].map(lambda value: value.rsplit('-'))"
   ]
  },
  {
   "cell_type": "code",
   "execution_count": 6,
   "id": "6d7a0909",
   "metadata": {},
   "outputs": [],
   "source": [
    "acceptance['ACT Total 25th-75th Percentile']=acceptance['ACT Total 25th-75th Percentile'].map(lambda value: value.rsplit('-'))"
   ]
  },
  {
   "cell_type": "code",
   "execution_count": 7,
   "id": "a93f7488",
   "metadata": {},
   "outputs": [],
   "source": [
    "# pd.set_option(\"display.max_rows\", None, \"display.max_columns\", None)\n",
    "# acceptance"
   ]
  },
  {
   "cell_type": "code",
   "execution_count": 8,
   "id": "a90ba202",
   "metadata": {},
   "outputs": [],
   "source": [
    " \n",
    "acceptance['SAT Total 25th Percentile'] = acceptance['SAT Total 25th-75th Percentile'].apply(lambda x: x[0])\n",
    "acceptance['SAT Total 75th Percentile'] = acceptance['SAT Total 25th-75th Percentile'].apply(lambda x: x[1])\n",
    "acceptance['ACT Total 25th Percentile'] = acceptance['ACT Total 25th-75th Percentile'].apply(lambda x: x[0])\n",
    "acceptance['ACT Total 75th Percentile'] = acceptance['ACT Total 25th-75th Percentile'].apply(lambda x: x[1])"
   ]
  },
  {
   "cell_type": "code",
   "execution_count": 9,
   "id": "8a419dc1",
   "metadata": {},
   "outputs": [],
   "source": [
    "acceptance['SAT Total 25th Percentile'] = pd.to_numeric(acceptance['SAT Total 25th Percentile'],errors='coerce')\n",
    "acceptance['SAT Total 75th Percentile'] = pd.to_numeric(acceptance['SAT Total 75th Percentile'],errors='coerce')\n",
    "acceptance['ACT Total 25th Percentile'] = pd.to_numeric(acceptance['ACT Total 25th Percentile'],errors='coerce')\n",
    "acceptance['ACT Total 75th Percentile'] = pd.to_numeric(acceptance['ACT Total 75th Percentile'],errors='coerce')\n",
    "# acceptance"
   ]
  },
  {
   "cell_type": "code",
   "execution_count": 10,
   "id": "bb5d1292",
   "metadata": {},
   "outputs": [
    {
     "data": {
      "text/plain": [
       "10"
      ]
     },
     "execution_count": 10,
     "metadata": {},
     "output_type": "execute_result"
    }
   ],
   "source": [
    "acceptance['SAT Total 25th Percentile'].isnull().sum()"
   ]
  },
  {
   "cell_type": "code",
   "execution_count": 11,
   "id": "50a154d0",
   "metadata": {},
   "outputs": [
    {
     "data": {
      "text/plain": [
       "6"
      ]
     },
     "execution_count": 11,
     "metadata": {},
     "output_type": "execute_result"
    }
   ],
   "source": [
    "acceptance['ACT Total 25th Percentile'].isnull().sum()"
   ]
  },
  {
   "cell_type": "code",
   "execution_count": 12,
   "id": "44421894",
   "metadata": {},
   "outputs": [
    {
     "data": {
      "text/plain": [
       "6"
      ]
     },
     "execution_count": 12,
     "metadata": {},
     "output_type": "execute_result"
    }
   ],
   "source": [
    "acceptance['SAT Total 75th Percentile'].isnull().sum()"
   ]
  },
  {
   "cell_type": "code",
   "execution_count": 13,
   "id": "983b8930",
   "metadata": {},
   "outputs": [
    {
     "data": {
      "text/plain": [
       "6"
      ]
     },
     "execution_count": 13,
     "metadata": {},
     "output_type": "execute_result"
    }
   ],
   "source": [
    "acceptance['ACT Total 75th Percentile'].isnull().sum()"
   ]
  },
  {
   "cell_type": "code",
   "execution_count": 14,
   "id": "34806778",
   "metadata": {},
   "outputs": [
    {
     "name": "stderr",
     "output_type": "stream",
     "text": [
      "/var/folders/l6/sgjk4nkn1l77fkj9zjw0cgcm0000gn/T/ipykernel_90653/26091030.py:2: SettingWithCopyWarning: \n",
      "A value is trying to be set on a copy of a slice from a DataFrame\n",
      "\n",
      "See the caveats in the documentation: https://pandas.pydata.org/pandas-docs/stable/user_guide/indexing.html#returning-a-view-versus-a-copy\n",
      "  accept.dropna(inplace=True)\n"
     ]
    },
    {
     "data": {
      "text/html": [
       "<div>\n",
       "<style scoped>\n",
       "    .dataframe tbody tr th:only-of-type {\n",
       "        vertical-align: middle;\n",
       "    }\n",
       "\n",
       "    .dataframe tbody tr th {\n",
       "        vertical-align: top;\n",
       "    }\n",
       "\n",
       "    .dataframe thead th {\n",
       "        text-align: right;\n",
       "    }\n",
       "</style>\n",
       "<table border=\"1\" class=\"dataframe\">\n",
       "  <thead>\n",
       "    <tr style=\"text-align: right;\">\n",
       "      <th></th>\n",
       "      <th>School</th>\n",
       "      <th>SAT Total 25th Percentile</th>\n",
       "      <th>SAT Total 75th Percentile</th>\n",
       "      <th>ACT Total 25th Percentile</th>\n",
       "      <th>ACT Total 75th Percentile</th>\n",
       "    </tr>\n",
       "  </thead>\n",
       "  <tbody>\n",
       "    <tr>\n",
       "      <th>0</th>\n",
       "      <td>Stanford University</td>\n",
       "      <td>1440.0</td>\n",
       "      <td>1570.0</td>\n",
       "      <td>32.0</td>\n",
       "      <td>35.0</td>\n",
       "    </tr>\n",
       "    <tr>\n",
       "      <th>1</th>\n",
       "      <td>Harvard College</td>\n",
       "      <td>1460.0</td>\n",
       "      <td>1580.0</td>\n",
       "      <td>33.0</td>\n",
       "      <td>35.0</td>\n",
       "    </tr>\n",
       "    <tr>\n",
       "      <th>2</th>\n",
       "      <td>Princeton University</td>\n",
       "      <td>1440.0</td>\n",
       "      <td>1570.0</td>\n",
       "      <td>32.0</td>\n",
       "      <td>35.0</td>\n",
       "    </tr>\n",
       "    <tr>\n",
       "      <th>3</th>\n",
       "      <td>Columbia University</td>\n",
       "      <td>1450.0</td>\n",
       "      <td>1560.0</td>\n",
       "      <td>33.0</td>\n",
       "      <td>35.0</td>\n",
       "    </tr>\n",
       "    <tr>\n",
       "      <th>4</th>\n",
       "      <td>Yale University</td>\n",
       "      <td>1460.0</td>\n",
       "      <td>1570.0</td>\n",
       "      <td>33.0</td>\n",
       "      <td>35.0</td>\n",
       "    </tr>\n",
       "    <tr>\n",
       "      <th>...</th>\n",
       "      <td>...</td>\n",
       "      <td>...</td>\n",
       "      <td>...</td>\n",
       "      <td>...</td>\n",
       "      <td>...</td>\n",
       "    </tr>\n",
       "    <tr>\n",
       "      <th>396</th>\n",
       "      <td>University of Texas Rio Grande Valley</td>\n",
       "      <td>950.0</td>\n",
       "      <td>1130.0</td>\n",
       "      <td>17.0</td>\n",
       "      <td>22.0</td>\n",
       "    </tr>\n",
       "    <tr>\n",
       "      <th>397</th>\n",
       "      <td>University of South Dakota</td>\n",
       "      <td>990.0</td>\n",
       "      <td>1180.0</td>\n",
       "      <td>19.0</td>\n",
       "      <td>25.0</td>\n",
       "    </tr>\n",
       "    <tr>\n",
       "      <th>398</th>\n",
       "      <td>University of Mississippi</td>\n",
       "      <td>1050.0</td>\n",
       "      <td>1270.0</td>\n",
       "      <td>21.0</td>\n",
       "      <td>29.0</td>\n",
       "    </tr>\n",
       "    <tr>\n",
       "      <th>399</th>\n",
       "      <td>University of Wyoming</td>\n",
       "      <td>1060.0</td>\n",
       "      <td>1280.0</td>\n",
       "      <td>22.0</td>\n",
       "      <td>28.0</td>\n",
       "    </tr>\n",
       "    <tr>\n",
       "      <th>400</th>\n",
       "      <td>University of Texas El Paso</td>\n",
       "      <td>820.0</td>\n",
       "      <td>1050.0</td>\n",
       "      <td>17.0</td>\n",
       "      <td>23.0</td>\n",
       "    </tr>\n",
       "  </tbody>\n",
       "</table>\n",
       "<p>401 rows × 5 columns</p>\n",
       "</div>"
      ],
      "text/plain": [
       "                                    School  SAT Total 25th Percentile  \\\n",
       "0                      Stanford University                     1440.0   \n",
       "1                          Harvard College                     1460.0   \n",
       "2                     Princeton University                     1440.0   \n",
       "3                      Columbia University                     1450.0   \n",
       "4                          Yale University                     1460.0   \n",
       "..                                     ...                        ...   \n",
       "396  University of Texas Rio Grande Valley                      950.0   \n",
       "397             University of South Dakota                      990.0   \n",
       "398              University of Mississippi                     1050.0   \n",
       "399                  University of Wyoming                     1060.0   \n",
       "400            University of Texas El Paso                      820.0   \n",
       "\n",
       "     SAT Total 75th Percentile  ACT Total 25th Percentile  \\\n",
       "0                       1570.0                       32.0   \n",
       "1                       1580.0                       33.0   \n",
       "2                       1570.0                       32.0   \n",
       "3                       1560.0                       33.0   \n",
       "4                       1570.0                       33.0   \n",
       "..                         ...                        ...   \n",
       "396                     1130.0                       17.0   \n",
       "397                     1180.0                       19.0   \n",
       "398                     1270.0                       21.0   \n",
       "399                     1280.0                       22.0   \n",
       "400                     1050.0                       17.0   \n",
       "\n",
       "     ACT Total 75th Percentile  \n",
       "0                         35.0  \n",
       "1                         35.0  \n",
       "2                         35.0  \n",
       "3                         35.0  \n",
       "4                         35.0  \n",
       "..                         ...  \n",
       "396                       22.0  \n",
       "397                       25.0  \n",
       "398                       29.0  \n",
       "399                       28.0  \n",
       "400                       23.0  \n",
       "\n",
       "[401 rows x 5 columns]"
      ]
     },
     "execution_count": 14,
     "metadata": {},
     "output_type": "execute_result"
    }
   ],
   "source": [
    "accept = acceptance[['School','SAT Total 25th Percentile','SAT Total 75th Percentile','ACT Total 25th Percentile','ACT Total 75th Percentile']]\n",
    "accept.dropna(inplace=True)\n",
    "accept = accept.reset_index(drop=True)\n",
    "accept"
   ]
  },
  {
   "cell_type": "markdown",
   "id": "1dd01fd2",
   "metadata": {},
   "source": [
    "# Part 1"
   ]
  },
  {
   "cell_type": "markdown",
   "id": "a22994de",
   "metadata": {},
   "source": [
    "## EDA"
   ]
  },
  {
   "cell_type": "code",
   "execution_count": 15,
   "id": "b07ac20a",
   "metadata": {},
   "outputs": [
    {
     "data": {
      "text/plain": [
       "[<matplotlib.lines.Line2D at 0x7fcff84fbbe0>]"
      ]
     },
     "execution_count": 15,
     "metadata": {},
     "output_type": "execute_result"
    },
    {
     "data": {
      "image/png": "[encoded data removed]",
      "text/plain": [
       "<Figure size 432x288 with 1 Axes>"
      ]
     },
     "metadata": {
      "needs_background": "light"
     },
     "output_type": "display_data"
    }
   ],
   "source": [
    "u=accept['SAT Total 25th Percentile']\n",
    "v=accept['ACT Total 25th Percentile']\n",
    "m=accept['SAT Total 75th Percentile']\n",
    "n=accept['ACT Total 75th Percentile']\n",
    "plt.plot(u,v,'co')\n",
    "plt.plot(m,n,'mo')\n",
    "\n",
    "# add bar plot"
   ]
  },
  {
   "cell_type": "code",
   "execution_count": 16,
   "id": "c5118d3d",
   "metadata": {},
   "outputs": [
    {
     "data": {
      "text/plain": [
       "0.961835435084276"
      ]
     },
     "execution_count": 16,
     "metadata": {},
     "output_type": "execute_result"
    }
   ],
   "source": [
    "u.corr(v)"
   ]
  },
  {
   "cell_type": "code",
   "execution_count": 17,
   "id": "bd988599",
   "metadata": {},
   "outputs": [
    {
     "data": {
      "text/plain": [
       "0.9413199682512434"
      ]
     },
     "execution_count": 17,
     "metadata": {},
     "output_type": "execute_result"
    }
   ],
   "source": [
    "m.corr(n)"
   ]
  },
  {
   "cell_type": "markdown",
   "id": "1304952e",
   "metadata": {},
   "source": [
    "We can see that the 25th Percentile has a higher correlation between SAT and ACT Score than the 75th Percentile. <br>\n",
    "r >0.96 which suggest a strong linear realtionship between the 25th Percentile SAT and ACT score <br>\n",
    "In next section, I try to use linear regression to fit in  model for 25th Percentile and then find outliers which deviate significantly from the expected value ( in other words, for a given 25th Percentile SAT score of a college, if the actual college acceptance 25th Percentile  ACT score is much lower than expected value, then students who want to apply for this college should ACT. otherwise, if actual ACT score is higher than expected, students should take SAT instead)"
   ]
  },
  {
   "cell_type": "markdown",
   "id": "44adcdd0",
   "metadata": {},
   "source": [
    "## Fitting Linear Model & Visialization"
   ]
  },
  {
   "cell_type": "code",
   "execution_count": 18,
   "id": "d3c5b61d",
   "metadata": {},
   "outputs": [],
   "source": [
    "U = accept[['SAT Total 25th Percentile']]\n",
    "lr = LinearRegression()\n",
    "lr.fit(U, v)\n",
    "coef=lr.coef_\n",
    "incpt=lr.intercept_"
   ]
  },
  {
   "cell_type": "code",
   "execution_count": 19,
   "id": "08375b98",
   "metadata": {},
   "outputs": [
    {
     "data": {
      "text/plain": [
       "Text(0, 0.5, 'ACT Total 25th Percentile')"
      ]
     },
     "execution_count": 19,
     "metadata": {},
     "output_type": "execute_result"
    },
    {
     "data": {
      "image/png": "[encoded data removed]",
      "text/plain": [
       "<Figure size 432x288 with 1 Axes>"
      ]
     },
     "metadata": {
      "needs_background": "light"
     },
     "output_type": "display_data"
    }
   ],
   "source": [
    "v_preds = lr.predict(U)\n",
    "plt.scatter(U, v,color='y') \n",
    "plt.title(f'fitted linear model of 25th Percentile score : \\n y = {coef}x  {incpt}')\n",
    "plt.plot(u, v_preds, '--', color='black',linewidth=2)\n",
    "plt.xlabel(\"SAT Total 25th Percentile\")\n",
    "plt.ylabel(\"ACT Total 25th Percentile\")"
   ]
  },
  {
   "cell_type": "code",
   "execution_count": 20,
   "id": "43c67305",
   "metadata": {},
   "outputs": [
    {
     "data": {
      "image/png": "[encoded data removed]",
      "text/plain": [
       "<Figure size 432x288 with 1 Axes>"
      ]
     },
     "metadata": {
      "needs_background": "light"
     },
     "output_type": "display_data"
    }
   ],
   "source": [
    "fig, ax = plt.subplots()\n",
    "ax.plot(u,v_preds,color='red',linewidth=2)\n",
    "ax.scatter(u,v)\n",
    "\n",
    "ax.vlines(u,v,v_preds,color='black',linewidth=0.8)\n",
    "\n",
    "plt.title(\"Fitted value versus actual 25th percentile score\")\n",
    "plt.xlabel(\"SAT Total 25th Percentile\")\n",
    "plt.ylabel(\"ACT Total 25th Percentile\")\n",
    "\n",
    "plt.show()"
   ]
  },
  {
   "cell_type": "code",
   "execution_count": 21,
   "id": "c585b9a1",
   "metadata": {},
   "outputs": [
    {
     "data": {
      "text/plain": [
       "Text(0, 0.5, 'Residuals')"
      ]
     },
     "execution_count": 21,
     "metadata": {},
     "output_type": "execute_result"
    },
    {
     "data": {
      "image/png": "[encoded data removed]",
      "text/plain": [
       "<Figure size 432x288 with 1 Axes>"
      ]
     },
     "metadata": {
      "needs_background": "light"
     },
     "output_type": "display_data"
    }
   ],
   "source": [
    "resids = v-v_preds\n",
    "plt.scatter(u, resids)\n",
    "plt.axhline(y=0, color='black', linestyle='--')\n",
    "plt.xlabel('Points')\n",
    "plt.ylabel('Residuals') "
   ]
  },
  {
   "cell_type": "code",
   "execution_count": 22,
   "id": "8daec085",
   "metadata": {},
   "outputs": [],
   "source": [
    "x1 = u.values\n",
    "y1 = v.values\n",
    "lm = sm.OLS(y1, x1).fit()\n",
    "# studentized_residuals = olsi(lm).resid_studentized\n"
   ]
  },
  {
   "cell_type": "code",
   "execution_count": 23,
   "id": "5d12379d",
   "metadata": {},
   "outputs": [
    {
     "data": {
      "text/plain": [
       "401"
      ]
     },
     "execution_count": 23,
     "metadata": {},
     "output_type": "execute_result"
    }
   ],
   "source": [
    "len(u)"
   ]
  },
  {
   "cell_type": "code",
   "execution_count": 24,
   "id": "0b35b9f3",
   "metadata": {
    "scrolled": true
   },
   "outputs": [
    {
     "data": {
      "text/plain": [
       "Text(30.25, 0.5, 'ACT Total 25th Percentile')"
      ]
     },
     "execution_count": 24,
     "metadata": {},
     "output_type": "execute_result"
    },
    {
     "data": {
      "image/png": "[encoded data removed]",
      "text/plain": [
       "<Figure size 432x288 with 1 Axes>"
      ]
     },
     "metadata": {
      "needs_background": "light"
     },
     "output_type": "display_data"
    }
   ],
   "source": [
    "# fig = sm.graphics.plot_regress_exog(lm, 0)\n",
    "fig = sm.graphics.plot_fit(lm,0)\n",
    "fig.tight_layout(pad=1.0)\n",
    "plt.title(\"Fitted value versus actual 25th percentile score\")\n",
    "plt.xlabel(\"SAT Total 25th Percentile\")\n",
    "plt.ylabel(\"ACT Total 25th Percentile\")"
   ]
  },
  {
   "cell_type": "markdown",
   "id": "c0885055",
   "metadata": {},
   "source": [
    "## Standardized residuals\n",
    "Standardized residuals (sometimes referred to as \"internally studentized residuals\") are defined for each observation, i = 1, ..., n as an ordinary residual divided by an estimate of its standard deviation:"
   ]
  },
  {
   "attachments": {
    "image.png": {
     "image/png": "[encoded data removed]"
    }
   },
   "cell_type": "markdown",
   "id": "d20c6e14",
   "metadata": {},
   "source": [
    "![image.png](attachment:image.png)"
   ]
  },
  {
   "cell_type": "markdown",
   "id": "191016cc",
   "metadata": {},
   "source": [
    "The standardized residual is the residual divided by its standard deviation for simple linear regression"
   ]
  },
  {
   "cell_type": "code",
   "execution_count": 25,
   "id": "0fd558cc",
   "metadata": {},
   "outputs": [
    {
     "data": {
      "text/html": [
       "<div>\n",
       "<style scoped>\n",
       "    .dataframe tbody tr th:only-of-type {\n",
       "        vertical-align: middle;\n",
       "    }\n",
       "\n",
       "    .dataframe tbody tr th {\n",
       "        vertical-align: top;\n",
       "    }\n",
       "\n",
       "    .dataframe thead th {\n",
       "        text-align: right;\n",
       "    }\n",
       "</style>\n",
       "<table border=\"1\" class=\"dataframe\">\n",
       "  <thead>\n",
       "    <tr style=\"text-align: right;\">\n",
       "      <th></th>\n",
       "      <th>student_resid</th>\n",
       "      <th>unadj_p</th>\n",
       "      <th>bonf(p)</th>\n",
       "    </tr>\n",
       "  </thead>\n",
       "  <tbody>\n",
       "    <tr>\n",
       "      <th>0</th>\n",
       "      <td>0.828181</td>\n",
       "      <td>0.408063</td>\n",
       "      <td>1.0</td>\n",
       "    </tr>\n",
       "    <tr>\n",
       "      <th>1</th>\n",
       "      <td>1.178357</td>\n",
       "      <td>0.239357</td>\n",
       "      <td>1.0</td>\n",
       "    </tr>\n",
       "    <tr>\n",
       "      <th>2</th>\n",
       "      <td>0.828181</td>\n",
       "      <td>0.408063</td>\n",
       "      <td>1.0</td>\n",
       "    </tr>\n",
       "    <tr>\n",
       "      <th>3</th>\n",
       "      <td>1.308249</td>\n",
       "      <td>0.191542</td>\n",
       "      <td>1.0</td>\n",
       "    </tr>\n",
       "    <tr>\n",
       "      <th>4</th>\n",
       "      <td>1.178357</td>\n",
       "      <td>0.239357</td>\n",
       "      <td>1.0</td>\n",
       "    </tr>\n",
       "    <tr>\n",
       "      <th>...</th>\n",
       "      <td>...</td>\n",
       "      <td>...</td>\n",
       "      <td>...</td>\n",
       "    </tr>\n",
       "    <tr>\n",
       "      <th>396</th>\n",
       "      <td>-1.957274</td>\n",
       "      <td>0.051012</td>\n",
       "      <td>1.0</td>\n",
       "    </tr>\n",
       "    <tr>\n",
       "      <th>397</th>\n",
       "      <td>-1.253679</td>\n",
       "      <td>0.210693</td>\n",
       "      <td>1.0</td>\n",
       "    </tr>\n",
       "    <tr>\n",
       "      <th>398</th>\n",
       "      <td>-0.813196</td>\n",
       "      <td>0.416591</td>\n",
       "      <td>1.0</td>\n",
       "    </tr>\n",
       "    <tr>\n",
       "      <th>399</th>\n",
       "      <td>-0.335051</td>\n",
       "      <td>0.737763</td>\n",
       "      <td>1.0</td>\n",
       "    </tr>\n",
       "    <tr>\n",
       "      <th>400</th>\n",
       "      <td>-0.270513</td>\n",
       "      <td>0.786906</td>\n",
       "      <td>1.0</td>\n",
       "    </tr>\n",
       "  </tbody>\n",
       "</table>\n",
       "<p>401 rows × 3 columns</p>\n",
       "</div>"
      ],
      "text/plain": [
       "     student_resid   unadj_p  bonf(p)\n",
       "0         0.828181  0.408063      1.0\n",
       "1         1.178357  0.239357      1.0\n",
       "2         0.828181  0.408063      1.0\n",
       "3         1.308249  0.191542      1.0\n",
       "4         1.178357  0.239357      1.0\n",
       "..             ...       ...      ...\n",
       "396      -1.957274  0.051012      1.0\n",
       "397      -1.253679  0.210693      1.0\n",
       "398      -0.813196  0.416591      1.0\n",
       "399      -0.335051  0.737763      1.0\n",
       "400      -0.270513  0.786906      1.0\n",
       "\n",
       "[401 rows x 3 columns]"
      ]
     },
     "execution_count": 25,
     "metadata": {},
     "output_type": "execute_result"
    }
   ],
   "source": [
    "# Producing studenterized residual\n",
    "stud_res = lm.outlier_test()\n",
    "df_stud_res= pd.DataFrame(stud_res, columns = ['student_resid','unadj_p','bonf(p)'])\n",
    "df_stud_res"
   ]
  },
  {
   "cell_type": "code",
   "execution_count": 26,
   "id": "fdb5b001",
   "metadata": {},
   "outputs": [
    {
     "data": {
      "text/plain": [
       "Text(0, 0.5, 'Studentized Residuals')"
      ]
     },
     "execution_count": 26,
     "metadata": {},
     "output_type": "execute_result"
    },
    {
     "data": {
      "image/png": "[encoded data removed]",
      "text/plain": [
       "<Figure size 432x288 with 1 Axes>"
      ]
     },
     "metadata": {
      "needs_background": "light"
     },
     "output_type": "display_data"
    }
   ],
   "source": [
    "\n",
    "student_resid = df_stud_res.iloc[:,0]\n",
    "\n",
    "plt.scatter(u, student_resid)\n",
    "plt.axhline(y=0, color='black', linestyle='--')\n",
    "plt.xlabel('Points')\n",
    "plt.ylabel('Studentized Residuals') "
   ]
  },
  {
   "cell_type": "code",
   "execution_count": 27,
   "id": "0af6cd32",
   "metadata": {},
   "outputs": [
    {
     "data": {
      "text/plain": [
       "(array([ 1.,  1.,  1.,  4.,  0.,  4.,  5., 11.,  3.,  5., 10., 12., 10.,\n",
       "        17., 14., 17., 19., 25., 28., 21., 17., 22., 17., 19., 15., 10.,\n",
       "        21., 10., 25., 14.,  8.,  7.,  5.,  1.,  0.,  0.,  1.,  0.,  0.,\n",
       "         0.,  0.,  0.,  0.,  0.,  0.,  0.,  0.,  0.,  0.,  1.]),\n",
       " array([-2.88102495, -2.73978009, -2.59853523, -2.45729038, -2.31604552,\n",
       "        -2.17480066, -2.0335558 , -1.89231094, -1.75106608, -1.60982122,\n",
       "        -1.46857637, -1.32733151, -1.18608665, -1.04484179, -0.90359693,\n",
       "        -0.76235207, -0.62110721, -0.47986236, -0.3386175 , -0.19737264,\n",
       "        -0.05612778,  0.08511708,  0.22636194,  0.3676068 ,  0.50885165,\n",
       "         0.65009651,  0.79134137,  0.93258623,  1.07383109,  1.21507595,\n",
       "         1.3563208 ,  1.49756566,  1.63881052,  1.78005538,  1.92130024,\n",
       "         2.0625451 ,  2.20378996,  2.34503481,  2.48627967,  2.62752453,\n",
       "         2.76876939,  2.91001425,  3.05125911,  3.19250397,  3.33374882,\n",
       "         3.47499368,  3.61623854,  3.7574834 ,  3.89872826,  4.03997312,\n",
       "         4.18121797]),\n",
       " <BarContainer object of 50 artists>)"
      ]
     },
     "execution_count": 27,
     "metadata": {},
     "output_type": "execute_result"
    },
    {
     "data": {
      "image/png": "[encoded data removed]",
      "text/plain": [
       "<Figure size 432x288 with 1 Axes>"
      ]
     },
     "metadata": {
      "needs_background": "light"
     },
     "output_type": "display_data"
    }
   ],
   "source": [
    "\n",
    "plt.hist(student_resid, bins=50)"
   ]
  },
  {
   "cell_type": "code",
   "execution_count": 28,
   "id": "7045666a",
   "metadata": {},
   "outputs": [],
   "source": [
    "accept = pd.concat([accept, student_resid], axis=1)\n",
    "#accept"
   ]
  },
  {
   "cell_type": "code",
   "execution_count": 29,
   "id": "21009878",
   "metadata": {},
   "outputs": [
    {
     "data": {
      "text/html": [
       "<div>\n",
       "<style scoped>\n",
       "    .dataframe tbody tr th:only-of-type {\n",
       "        vertical-align: middle;\n",
       "    }\n",
       "\n",
       "    .dataframe tbody tr th {\n",
       "        vertical-align: top;\n",
       "    }\n",
       "\n",
       "    .dataframe thead th {\n",
       "        text-align: right;\n",
       "    }\n",
       "</style>\n",
       "<table border=\"1\" class=\"dataframe\">\n",
       "  <thead>\n",
       "    <tr style=\"text-align: right;\">\n",
       "      <th></th>\n",
       "      <th>School</th>\n",
       "      <th>SAT Total 25th Percentile</th>\n",
       "      <th>SAT Total 75th Percentile</th>\n",
       "      <th>ACT Total 25th Percentile</th>\n",
       "      <th>ACT Total 75th Percentile</th>\n",
       "      <th>student_resid</th>\n",
       "    </tr>\n",
       "  </thead>\n",
       "  <tbody>\n",
       "    <tr>\n",
       "      <th>340</th>\n",
       "      <td>University of Alaska Anchorage</td>\n",
       "      <td>1020.0</td>\n",
       "      <td>1220.0</td>\n",
       "      <td>17.0</td>\n",
       "      <td>24.0</td>\n",
       "      <td>-2.881025</td>\n",
       "    </tr>\n",
       "    <tr>\n",
       "      <th>238</th>\n",
       "      <td>California State University--San Bernardino</td>\n",
       "      <td>910.0</td>\n",
       "      <td>1090.0</td>\n",
       "      <td>15.0</td>\n",
       "      <td>19.0</td>\n",
       "      <td>-2.668068</td>\n",
       "    </tr>\n",
       "    <tr>\n",
       "      <th>166</th>\n",
       "      <td>California State University--Fresno</td>\n",
       "      <td>950.0</td>\n",
       "      <td>1130.0</td>\n",
       "      <td>16.0</td>\n",
       "      <td>22.0</td>\n",
       "      <td>-2.575560</td>\n",
       "    </tr>\n",
       "    <tr>\n",
       "      <th>336</th>\n",
       "      <td>California State University--Sacramento</td>\n",
       "      <td>940.0</td>\n",
       "      <td>1140.0</td>\n",
       "      <td>16.0</td>\n",
       "      <td>22.0</td>\n",
       "      <td>-2.443420</td>\n",
       "    </tr>\n",
       "    <tr>\n",
       "      <th>95</th>\n",
       "      <td>California State University--Los Angeles</td>\n",
       "      <td>890.0</td>\n",
       "      <td>1080.0</td>\n",
       "      <td>15.0</td>\n",
       "      <td>20.0</td>\n",
       "      <td>-2.403675</td>\n",
       "    </tr>\n",
       "    <tr>\n",
       "      <th>...</th>\n",
       "      <td>...</td>\n",
       "      <td>...</td>\n",
       "      <td>...</td>\n",
       "      <td>...</td>\n",
       "      <td>...</td>\n",
       "      <td>...</td>\n",
       "    </tr>\n",
       "    <tr>\n",
       "      <th>58</th>\n",
       "      <td>Villanova University</td>\n",
       "      <td>1320.0</td>\n",
       "      <td>1470.0</td>\n",
       "      <td>31.0</td>\n",
       "      <td>34.0</td>\n",
       "      <td>1.776829</td>\n",
       "    </tr>\n",
       "    <tr>\n",
       "      <th>38</th>\n",
       "      <td>Wesleyan University</td>\n",
       "      <td>1320.0</td>\n",
       "      <td>1510.0</td>\n",
       "      <td>31.0</td>\n",
       "      <td>34.0</td>\n",
       "      <td>1.776829</td>\n",
       "    </tr>\n",
       "    <tr>\n",
       "      <th>32</th>\n",
       "      <td>Middlebury College</td>\n",
       "      <td>1360.0</td>\n",
       "      <td>1530.0</td>\n",
       "      <td>32.0</td>\n",
       "      <td>34.0</td>\n",
       "      <td>1.868560</td>\n",
       "    </tr>\n",
       "    <tr>\n",
       "      <th>35</th>\n",
       "      <td>The Cooper Union</td>\n",
       "      <td>1283.0</td>\n",
       "      <td>1510.0</td>\n",
       "      <td>31.0</td>\n",
       "      <td>34.0</td>\n",
       "      <td>2.261784</td>\n",
       "    </tr>\n",
       "    <tr>\n",
       "      <th>304</th>\n",
       "      <td>Willamette University</td>\n",
       "      <td>1140.0</td>\n",
       "      <td>1340.0</td>\n",
       "      <td>31.0</td>\n",
       "      <td>35.0</td>\n",
       "      <td>4.181218</td>\n",
       "    </tr>\n",
       "  </tbody>\n",
       "</table>\n",
       "<p>401 rows × 6 columns</p>\n",
       "</div>"
      ],
      "text/plain": [
       "                                          School  SAT Total 25th Percentile  \\\n",
       "340               University of Alaska Anchorage                     1020.0   \n",
       "238  California State University--San Bernardino                      910.0   \n",
       "166          California State University--Fresno                      950.0   \n",
       "336      California State University--Sacramento                      940.0   \n",
       "95      California State University--Los Angeles                      890.0   \n",
       "..                                           ...                        ...   \n",
       "58                          Villanova University                     1320.0   \n",
       "38                           Wesleyan University                     1320.0   \n",
       "32                            Middlebury College                     1360.0   \n",
       "35                              The Cooper Union                     1283.0   \n",
       "304                        Willamette University                     1140.0   \n",
       "\n",
       "     SAT Total 75th Percentile  ACT Total 25th Percentile  \\\n",
       "340                     1220.0                       17.0   \n",
       "238                     1090.0                       15.0   \n",
       "166                     1130.0                       16.0   \n",
       "336                     1140.0                       16.0   \n",
       "95                      1080.0                       15.0   \n",
       "..                         ...                        ...   \n",
       "58                      1470.0                       31.0   \n",
       "38                      1510.0                       31.0   \n",
       "32                      1530.0                       32.0   \n",
       "35                      1510.0                       31.0   \n",
       "304                     1340.0                       31.0   \n",
       "\n",
       "     ACT Total 75th Percentile  student_resid  \n",
       "340                       24.0      -2.881025  \n",
       "238                       19.0      -2.668068  \n",
       "166                       22.0      -2.575560  \n",
       "336                       22.0      -2.443420  \n",
       "95                        20.0      -2.403675  \n",
       "..                         ...            ...  \n",
       "58                        34.0       1.776829  \n",
       "38                        34.0       1.776829  \n",
       "32                        34.0       1.868560  \n",
       "35                        34.0       2.261784  \n",
       "304                       35.0       4.181218  \n",
       "\n",
       "[401 rows x 6 columns]"
      ]
     },
     "execution_count": 29,
     "metadata": {},
     "output_type": "execute_result"
    }
   ],
   "source": [
    "accept.sort_values('student_resid',ascending=True)"
   ]
  },
  {
   "cell_type": "markdown",
   "id": "578edba8",
   "metadata": {},
   "source": [
    "## Find Outliers"
   ]
  },
  {
   "cell_type": "markdown",
   "id": "0f8bbe74",
   "metadata": {},
   "source": [
    "An observation with a standardized residual that is larger than 3 (in absolute value) is deemed by some to be an outlier. <br>\n",
    "Some statistical software flags any observation with a standardized residual that is larger than 2 (in absolute value). <br>\n",
    "(reference: https://online.stat.psu.edu/stat462/node/172/)"
   ]
  },
  {
   "cell_type": "code",
   "execution_count": 30,
   "id": "b2be6bab",
   "metadata": {},
   "outputs": [
    {
     "data": {
      "text/html": [
       "<div>\n",
       "<style scoped>\n",
       "    .dataframe tbody tr th:only-of-type {\n",
       "        vertical-align: middle;\n",
       "    }\n",
       "\n",
       "    .dataframe tbody tr th {\n",
       "        vertical-align: top;\n",
       "    }\n",
       "\n",
       "    .dataframe thead th {\n",
       "        text-align: right;\n",
       "    }\n",
       "</style>\n",
       "<table border=\"1\" class=\"dataframe\">\n",
       "  <thead>\n",
       "    <tr style=\"text-align: right;\">\n",
       "      <th></th>\n",
       "      <th>School</th>\n",
       "      <th>SAT Total 25th Percentile</th>\n",
       "      <th>SAT Total 75th Percentile</th>\n",
       "      <th>ACT Total 25th Percentile</th>\n",
       "      <th>ACT Total 75th Percentile</th>\n",
       "      <th>student_resid</th>\n",
       "    </tr>\n",
       "  </thead>\n",
       "  <tbody>\n",
       "    <tr>\n",
       "      <th>304</th>\n",
       "      <td>Willamette University</td>\n",
       "      <td>1140.0</td>\n",
       "      <td>1340.0</td>\n",
       "      <td>31.0</td>\n",
       "      <td>35.0</td>\n",
       "      <td>4.181218</td>\n",
       "    </tr>\n",
       "  </tbody>\n",
       "</table>\n",
       "</div>"
      ],
      "text/plain": [
       "                    School  SAT Total 25th Percentile  \\\n",
       "304  Willamette University                     1140.0   \n",
       "\n",
       "     SAT Total 75th Percentile  ACT Total 25th Percentile  \\\n",
       "304                     1340.0                       31.0   \n",
       "\n",
       "     ACT Total 75th Percentile  student_resid  \n",
       "304                       35.0       4.181218  "
      ]
     },
     "execution_count": 30,
     "metadata": {},
     "output_type": "execute_result"
    }
   ],
   "source": [
    "# Outliers\n",
    "\n",
    "otl_higherACT = accept.loc[accept['student_resid']>3, :]\n",
    "otl_lowerACT = accept.loc[accept['student_resid']< -3, :]\n",
    "otl_higherACT\n",
    "# otl_lowerACT is empty"
   ]
  },
  {
   "cell_type": "markdown",
   "id": "66c916e5",
   "metadata": {},
   "source": [
    "## Result"
   ]
  },
  {
   "cell_type": "markdown",
   "id": "49a1c713",
   "metadata": {},
   "source": [
    "Here we set the benchmark of standardized residual is absolute value > 2"
   ]
  },
  {
   "cell_type": "code",
   "execution_count": 31,
   "id": "e2472f13",
   "metadata": {},
   "outputs": [],
   "source": [
    "Sch_prefer_ACT = accept.loc[accept['student_resid'] < -2, :].sort_values('student_resid',ascending=True)\n",
    "Sch_prefer_SAT = accept.loc[accept['student_resid'] > 2, :].sort_values('student_resid',ascending=False)"
   ]
  },
  {
   "cell_type": "markdown",
   "id": "4fed32aa",
   "metadata": {},
   "source": [
    "### List of schools prefer ACT\n",
    "Below list is of school with lower ACT 25th Percentile score than SAT 25th Percentile score. \n",
    "In orther words, these schools prefer ACT. "
   ]
  },
  {
   "cell_type": "code",
   "execution_count": 32,
   "id": "67d6f2e1",
   "metadata": {},
   "outputs": [
    {
     "data": {
      "text/html": [
       "<div>\n",
       "<style scoped>\n",
       "    .dataframe tbody tr th:only-of-type {\n",
       "        vertical-align: middle;\n",
       "    }\n",
       "\n",
       "    .dataframe tbody tr th {\n",
       "        vertical-align: top;\n",
       "    }\n",
       "\n",
       "    .dataframe thead th {\n",
       "        text-align: right;\n",
       "    }\n",
       "</style>\n",
       "<table border=\"1\" class=\"dataframe\">\n",
       "  <thead>\n",
       "    <tr style=\"text-align: right;\">\n",
       "      <th></th>\n",
       "      <th>School</th>\n",
       "      <th>SAT Total 25th Percentile</th>\n",
       "      <th>SAT Total 75th Percentile</th>\n",
       "      <th>ACT Total 25th Percentile</th>\n",
       "      <th>ACT Total 75th Percentile</th>\n",
       "      <th>student_resid</th>\n",
       "    </tr>\n",
       "  </thead>\n",
       "  <tbody>\n",
       "    <tr>\n",
       "      <th>340</th>\n",
       "      <td>University of Alaska Anchorage</td>\n",
       "      <td>1020.0</td>\n",
       "      <td>1220.0</td>\n",
       "      <td>17.0</td>\n",
       "      <td>24.0</td>\n",
       "      <td>-2.881025</td>\n",
       "    </tr>\n",
       "    <tr>\n",
       "      <th>238</th>\n",
       "      <td>California State University--San Bernardino</td>\n",
       "      <td>910.0</td>\n",
       "      <td>1090.0</td>\n",
       "      <td>15.0</td>\n",
       "      <td>19.0</td>\n",
       "      <td>-2.668068</td>\n",
       "    </tr>\n",
       "    <tr>\n",
       "      <th>166</th>\n",
       "      <td>California State University--Fresno</td>\n",
       "      <td>950.0</td>\n",
       "      <td>1130.0</td>\n",
       "      <td>16.0</td>\n",
       "      <td>22.0</td>\n",
       "      <td>-2.575560</td>\n",
       "    </tr>\n",
       "    <tr>\n",
       "      <th>336</th>\n",
       "      <td>California State University--Sacramento</td>\n",
       "      <td>940.0</td>\n",
       "      <td>1140.0</td>\n",
       "      <td>16.0</td>\n",
       "      <td>22.0</td>\n",
       "      <td>-2.443420</td>\n",
       "    </tr>\n",
       "    <tr>\n",
       "      <th>95</th>\n",
       "      <td>California State University--Los Angeles</td>\n",
       "      <td>890.0</td>\n",
       "      <td>1080.0</td>\n",
       "      <td>15.0</td>\n",
       "      <td>20.0</td>\n",
       "      <td>-2.403675</td>\n",
       "    </tr>\n",
       "    <tr>\n",
       "      <th>259</th>\n",
       "      <td>University of California—Merced</td>\n",
       "      <td>980.0</td>\n",
       "      <td>1180.0</td>\n",
       "      <td>17.0</td>\n",
       "      <td>22.0</td>\n",
       "      <td>-2.351282</td>\n",
       "    </tr>\n",
       "    <tr>\n",
       "      <th>365</th>\n",
       "      <td>Humboldt State University</td>\n",
       "      <td>980.0</td>\n",
       "      <td>1190.0</td>\n",
       "      <td>17.0</td>\n",
       "      <td>25.0</td>\n",
       "      <td>-2.351282</td>\n",
       "    </tr>\n",
       "    <tr>\n",
       "      <th>373</th>\n",
       "      <td>Portland State</td>\n",
       "      <td>1010.0</td>\n",
       "      <td>1230.0</td>\n",
       "      <td>18.0</td>\n",
       "      <td>25.0</td>\n",
       "      <td>-2.127858</td>\n",
       "    </tr>\n",
       "    <tr>\n",
       "      <th>289</th>\n",
       "      <td>California State University--Monterey Bay</td>\n",
       "      <td>960.0</td>\n",
       "      <td>1170.0</td>\n",
       "      <td>17.0</td>\n",
       "      <td>23.0</td>\n",
       "      <td>-2.088332</td>\n",
       "    </tr>\n",
       "    <tr>\n",
       "      <th>388</th>\n",
       "      <td>Florida International</td>\n",
       "      <td>1240.0</td>\n",
       "      <td>1300.0</td>\n",
       "      <td>23.0</td>\n",
       "      <td>28.0</td>\n",
       "      <td>-2.063125</td>\n",
       "    </tr>\n",
       "    <tr>\n",
       "      <th>173</th>\n",
       "      <td>California State University--Northridge</td>\n",
       "      <td>910.0</td>\n",
       "      <td>1130.0</td>\n",
       "      <td>16.0</td>\n",
       "      <td>22.0</td>\n",
       "      <td>-2.048846</td>\n",
       "    </tr>\n",
       "  </tbody>\n",
       "</table>\n",
       "</div>"
      ],
      "text/plain": [
       "                                          School  SAT Total 25th Percentile  \\\n",
       "340               University of Alaska Anchorage                     1020.0   \n",
       "238  California State University--San Bernardino                      910.0   \n",
       "166          California State University--Fresno                      950.0   \n",
       "336      California State University--Sacramento                      940.0   \n",
       "95      California State University--Los Angeles                      890.0   \n",
       "259              University of California—Merced                      980.0   \n",
       "365                    Humboldt State University                      980.0   \n",
       "373                               Portland State                     1010.0   \n",
       "289    California State University--Monterey Bay                      960.0   \n",
       "388                        Florida International                     1240.0   \n",
       "173      California State University--Northridge                      910.0   \n",
       "\n",
       "     SAT Total 75th Percentile  ACT Total 25th Percentile  \\\n",
       "340                     1220.0                       17.0   \n",
       "238                     1090.0                       15.0   \n",
       "166                     1130.0                       16.0   \n",
       "336                     1140.0                       16.0   \n",
       "95                      1080.0                       15.0   \n",
       "259                     1180.0                       17.0   \n",
       "365                     1190.0                       17.0   \n",
       "373                     1230.0                       18.0   \n",
       "289                     1170.0                       17.0   \n",
       "388                     1300.0                       23.0   \n",
       "173                     1130.0                       16.0   \n",
       "\n",
       "     ACT Total 75th Percentile  student_resid  \n",
       "340                       24.0      -2.881025  \n",
       "238                       19.0      -2.668068  \n",
       "166                       22.0      -2.575560  \n",
       "336                       22.0      -2.443420  \n",
       "95                        20.0      -2.403675  \n",
       "259                       22.0      -2.351282  \n",
       "365                       25.0      -2.351282  \n",
       "373                       25.0      -2.127858  \n",
       "289                       23.0      -2.088332  \n",
       "388                       28.0      -2.063125  \n",
       "173                       22.0      -2.048846  "
      ]
     },
     "execution_count": 32,
     "metadata": {},
     "output_type": "execute_result"
    }
   ],
   "source": [
    "Sch_prefer_ACT "
   ]
  },
  {
   "cell_type": "markdown",
   "id": "61e0b77a",
   "metadata": {},
   "source": [
    "### List of schools prefer SAT\n",
    "Below list is of school with higher ACT 25th Percentile score than SAT 25th Percentile score. \n",
    "In orther words, these schools prefer SAT. Among the list, the Willamette University has student_resid>3, which indicates that it does not really fit in our modle. Thus I strongly encourage who want to apply Willamette University take SAT rather than ACT"
   ]
  },
  {
   "cell_type": "code",
   "execution_count": 33,
   "id": "eaf35e15",
   "metadata": {},
   "outputs": [
    {
     "data": {
      "text/html": [
       "<div>\n",
       "<style scoped>\n",
       "    .dataframe tbody tr th:only-of-type {\n",
       "        vertical-align: middle;\n",
       "    }\n",
       "\n",
       "    .dataframe tbody tr th {\n",
       "        vertical-align: top;\n",
       "    }\n",
       "\n",
       "    .dataframe thead th {\n",
       "        text-align: right;\n",
       "    }\n",
       "</style>\n",
       "<table border=\"1\" class=\"dataframe\">\n",
       "  <thead>\n",
       "    <tr style=\"text-align: right;\">\n",
       "      <th></th>\n",
       "      <th>School</th>\n",
       "      <th>SAT Total 25th Percentile</th>\n",
       "      <th>SAT Total 75th Percentile</th>\n",
       "      <th>ACT Total 25th Percentile</th>\n",
       "      <th>ACT Total 75th Percentile</th>\n",
       "      <th>student_resid</th>\n",
       "    </tr>\n",
       "  </thead>\n",
       "  <tbody>\n",
       "    <tr>\n",
       "      <th>304</th>\n",
       "      <td>Willamette University</td>\n",
       "      <td>1140.0</td>\n",
       "      <td>1340.0</td>\n",
       "      <td>31.0</td>\n",
       "      <td>35.0</td>\n",
       "      <td>4.181218</td>\n",
       "    </tr>\n",
       "    <tr>\n",
       "      <th>35</th>\n",
       "      <td>The Cooper Union</td>\n",
       "      <td>1283.0</td>\n",
       "      <td>1510.0</td>\n",
       "      <td>31.0</td>\n",
       "      <td>34.0</td>\n",
       "      <td>2.261784</td>\n",
       "    </tr>\n",
       "  </tbody>\n",
       "</table>\n",
       "</div>"
      ],
      "text/plain": [
       "                    School  SAT Total 25th Percentile  \\\n",
       "304  Willamette University                     1140.0   \n",
       "35        The Cooper Union                     1283.0   \n",
       "\n",
       "     SAT Total 75th Percentile  ACT Total 25th Percentile  \\\n",
       "304                     1340.0                       31.0   \n",
       "35                      1510.0                       31.0   \n",
       "\n",
       "     ACT Total 75th Percentile  student_resid  \n",
       "304                       35.0       4.181218  \n",
       "35                        34.0       2.261784  "
      ]
     },
     "execution_count": 33,
     "metadata": {},
     "output_type": "execute_result"
    }
   ],
   "source": [
    "Sch_prefer_SAT"
   ]
  },
  {
   "cell_type": "code",
   "execution_count": 34,
   "id": "5d40b925",
   "metadata": {},
   "outputs": [
    {
     "data": {
      "text/plain": [
       "'\\nleverage_pts = olsi(lm).hat_matrix_diag\\ncook_dist = olsi(lm).cooks_distance\\n\\nfig, ax = plt.subplots(figsize=(12,8))\\nfig = sm.graphics.influence_plot(lm, alpha  = 0.05, ax = ax, criterion=\"cooks\")\\n'"
      ]
     },
     "execution_count": 34,
     "metadata": {},
     "output_type": "execute_result"
    }
   ],
   "source": [
    "\"\"\"\n",
    "leverage_pts = olsi(lm).hat_matrix_diag\n",
    "cook_dist = olsi(lm).cooks_distance\n",
    "\n",
    "fig, ax = plt.subplots(figsize=(12,8))\n",
    "fig = sm.graphics.influence_plot(lm, alpha  = 0.05, ax = ax, criterion=\"cooks\")\n",
    "\"\"\""
   ]
  },
  {
   "cell_type": "markdown",
   "id": "c267f135",
   "metadata": {},
   "source": [
    "# Part 2"
   ]
  },
  {
   "cell_type": "markdown",
   "id": "92dbbf2b",
   "metadata": {},
   "source": [
    "## EDA"
   ]
  },
  {
   "cell_type": "code",
   "execution_count": 35,
   "id": "69c0bb6b",
   "metadata": {},
   "outputs": [],
   "source": [
    "x = sat['Total SAT']\n",
    "y = act['Avg ACT Composite Score']"
   ]
  },
  {
   "cell_type": "code",
   "execution_count": 36,
   "id": "c45f53df",
   "metadata": {},
   "outputs": [
    {
     "data": {
      "text/plain": [
       "[<matplotlib.lines.Line2D at 0x7fcfe8b754c0>]"
      ]
     },
     "execution_count": 36,
     "metadata": {},
     "output_type": "execute_result"
    },
    {
     "data": {
      "image/png": "[encoded data removed]",
      "text/plain": [
       "<Figure size 432x288 with 1 Axes>"
      ]
     },
     "metadata": {
      "needs_background": "light"
     },
     "output_type": "display_data"
    }
   ],
   "source": [
    "plt.plot(x,y,'o')"
   ]
  },
  {
   "cell_type": "code",
   "execution_count": 37,
   "id": "5e3851c0",
   "metadata": {},
   "outputs": [
    {
     "data": {
      "text/plain": [
       "0.9419327522416332"
      ]
     },
     "execution_count": 37,
     "metadata": {},
     "output_type": "execute_result"
    }
   ],
   "source": [
    "x.corr(y)\n",
    "\n",
    "#>0.5 : strong linear relation"
   ]
  },
  {
   "cell_type": "code",
   "execution_count": 38,
   "id": "5ce865ae",
   "metadata": {},
   "outputs": [
    {
     "data": {
      "text/plain": [
       "0      968.00\n",
       "1     1042.00\n",
       "2     1047.00\n",
       "3     1066.00\n",
       "4     1066.00\n",
       "5      952.00\n",
       "6     1156.00\n",
       "7     1021.00\n",
       "8     1140.00\n",
       "9     1108.50\n",
       "10    1044.00\n",
       "11     921.00\n",
       "12    1163.75\n",
       "13    1136.50\n",
       "Name: Total SAT, dtype: float64"
      ]
     },
     "execution_count": 38,
     "metadata": {},
     "output_type": "execute_result"
    }
   ],
   "source": [
    "x"
   ]
  },
  {
   "cell_type": "markdown",
   "id": "8ef274c4",
   "metadata": {},
   "source": [
    "# Fitting Linear Model & Visialization"
   ]
  },
  {
   "cell_type": "markdown",
   "id": "fcda223a",
   "metadata": {},
   "source": [
    "Part 1: Average SAT (x) vs ACT score (y) based on tast takers' intended majors"
   ]
  },
  {
   "cell_type": "code",
   "execution_count": 39,
   "id": "18547f0a",
   "metadata": {},
   "outputs": [],
   "source": [
    "def objective(x, a, b):\n",
    "    return a * x + b"
   ]
  },
  {
   "cell_type": "code",
   "execution_count": 40,
   "id": "2d0d4bf2",
   "metadata": {},
   "outputs": [
    {
     "name": "stdout",
     "output_type": "stream",
     "text": [
      "fitted linear model is : y = 0.02840x  -8.51634\n"
     ]
    }
   ],
   "source": [
    "popt, _ = curve_fit(objective, x, y)\n",
    "\n",
    "# summarize the parameter values\n",
    "a, b = popt\n",
    "\n",
    "print(f'fitted linear model is : y = {a:.5f}x  {b:.5f}')"
   ]
  },
  {
   "cell_type": "code",
   "execution_count": 41,
   "id": "2bfdc3b5",
   "metadata": {},
   "outputs": [
    {
     "data": {
      "image/png": "[encoded data removed]",
      "text/plain": [
       "<Figure size 432x288 with 1 Axes>"
      ]
     },
     "metadata": {
      "needs_background": "light"
     },
     "output_type": "display_data"
    }
   ],
   "source": [
    "# define a sequence of inputs between the smallest and largest known inputs\n",
    "x_line = np.arange(min(x), max(x), 1)\n",
    "\n",
    "# calculate the output for the range\n",
    "y_line = objective(x_line, a, b)\n",
    "\n",
    "# create a line plot for the mapping function\n",
    "plt.plot(x,y,'o')\n",
    "plt.plot(x_line, y_line, '--', color='red')\n",
    "\n",
    "annotations= sat['Degree-level goal and intended college major']\n",
    "    \n",
    "for i, label in enumerate(annotations):\n",
    "    plt.annotate(label, (x[i], y[i]))\n",
    "    \n",
    "plt.show()"
   ]
  },
  {
   "cell_type": "code",
   "execution_count": 42,
   "id": "14e33b21",
   "metadata": {},
   "outputs": [
    {
     "data": {
      "image/png": "[encoded data removed]",
      "text/plain": [
       "<Figure size 960x800 with 1 Axes>"
      ]
     },
     "metadata": {
      "needs_background": "light"
     },
     "output_type": "display_data"
    }
   ],
   "source": [
    "# Before run this section, please install adjustText (uncomment below code)\n",
    "\n",
    "#!pip install numpy\n",
    "\n",
    "# credit to https://github.com/Phlya/adjustText\n",
    "# In order to ajust text label to avoid overlapping\n",
    "\n",
    "\n",
    "from adjustText import adjust_text\n",
    "\n",
    "plt.figure(figsize=(12, 10), dpi=80)\n",
    "\n",
    "plt.plot(x,y,'o')\n",
    "plt.plot(x_line, y_line, '--', color='red')\n",
    "\n",
    "annotations= sat['Degree-level goal and intended college major']\n",
    "\n",
    "x_copy=x.copy(deep=True)\n",
    "y_copy=y.copy(deep=True)\n",
    "    \n",
    "texts = []\n",
    "for xs, ys, s in zip(x_copy, y_copy, annotations):\n",
    "    texts.append(plt.text(xs, ys, s))\n",
    "\n",
    "plt.ylabel(\"ACT Mean Score\", fontsize = 14);\n",
    "plt.xlabel(\"SAT Mean Score\", fontsize = 14);\n",
    "\n",
    "adjust_text(texts, only_move={'points':'y', 'texts':'y'}, arrowprops=dict(arrowstyle=\"->\", color='r', lw=0.5))\n",
    "plt.show()"
   ]
  },
  {
   "cell_type": "code",
   "execution_count": 43,
   "id": "74526066",
   "metadata": {},
   "outputs": [
    {
     "name": "stdout",
     "output_type": "stream",
     "text": [
      "                               OLS Regression Results                              \n",
      "===================================================================================\n",
      "Dep. Variable:     Avg ACT Composite Score   R-squared:                       0.887\n",
      "Model:                                 OLS   Adj. R-squared:                  0.878\n",
      "Method:                      Least Squares   F-statistic:                     94.42\n",
      "Date:                     Mon, 26 Sep 2022   Prob (F-statistic):           4.88e-07\n",
      "Time:                             03:13:56   Log-Likelihood:                -15.797\n",
      "No. Observations:                       14   AIC:                             35.59\n",
      "Df Residuals:                           12   BIC:                             36.87\n",
      "Df Model:                                1                                         \n",
      "Covariance Type:                 nonrobust                                         \n",
      "==============================================================================\n",
      "                 coef    std err          t      P>|t|      [0.025      0.975]\n",
      "------------------------------------------------------------------------------\n",
      "const         -8.5163      3.104     -2.744      0.018     -15.279      -1.753\n",
      "Total SAT      0.0284      0.003      9.717      0.000       0.022       0.035\n",
      "==============================================================================\n",
      "Omnibus:                        1.447   Durbin-Watson:                   1.257\n",
      "Prob(Omnibus):                  0.485   Jarque-Bera (JB):                0.594\n",
      "Skew:                          -0.504   Prob(JB):                        0.743\n",
      "Kurtosis:                       2.976   Cond. No.                     1.53e+04\n",
      "==============================================================================\n",
      "\n",
      "Notes:\n",
      "[1] Standard Errors assume that the covariance matrix of the errors is correctly specified.\n",
      "[2] The condition number is large, 1.53e+04. This might indicate that there are\n",
      "strong multicollinearity or other numerical problems.\n"
     ]
    },
    {
     "name": "stderr",
     "output_type": "stream",
     "text": [
      "/Users/zhangzhexu/opt/anaconda3/lib/python3.9/site-packages/scipy/stats/stats.py:1541: UserWarning: kurtosistest only valid for n>=20 ... continuing anyway, n=14\n",
      "  warnings.warn(\"kurtosistest only valid for n>=20 ... continuing \"\n"
     ]
    }
   ],
   "source": [
    "X2 = sm.add_constant(x)\n",
    "est = sm.OLS(y, X2)\n",
    "est2 = est.fit() \n",
    "print(est2.summary())"
   ]
  },
  {
   "cell_type": "markdown",
   "id": "fbb7313a",
   "metadata": {},
   "source": [
    "Part 2: 25 percentile acceptance SAT (x) vs ACT score (y) based on universities.\n"
   ]
  },
  {
   "cell_type": "code",
   "execution_count": 44,
   "id": "467ed9c8",
   "metadata": {},
   "outputs": [
    {
     "data": {
      "text/plain": [
       "\"\\nX = sat[['Total SAT']]\\nY = act['Avg ACT Composite Score']\\nlr = LinearRegression()\\nlr.fit(X, Y)\\nprint(lr.intercept_)\\nprint(lr.coef_)\\n\\n\\nplt.scatter(X, Y, s=1)\\nplt.plot(x, y_pred, color='orange');\\n\\n\\n# Make predictions\\ny_pred = lr.predict(X)\\n\\n# Create residuals (aka errors): (y - y_hat)\\nresids = y - y_line\\n\\n# Compute the MSE\\nmse = np.mean(resids**2)\\nmse\\n\\n\""
      ]
     },
     "execution_count": 44,
     "metadata": {},
     "output_type": "execute_result"
    }
   ],
   "source": [
    "\"\"\"\n",
    "X = sat[['Total SAT']]\n",
    "Y = act['Avg ACT Composite Score']\n",
    "lr = LinearRegression()\n",
    "lr.fit(X, Y)\n",
    "print(lr.intercept_)\n",
    "print(lr.coef_)\n",
    "\n",
    "\n",
    "plt.scatter(X, Y, s=1)\n",
    "plt.plot(x, y_pred, color='orange');\n",
    "\n",
    "\n",
    "# Make predictions\n",
    "y_pred = lr.predict(X)\n",
    "\n",
    "# Create residuals (aka errors): (y - y_hat)\n",
    "resids = y - y_line\n",
    "\n",
    "# Compute the MSE\n",
    "mse = np.mean(resids**2)\n",
    "mse\n",
    "\n",
    "\"\"\""
   ]
  },
  {
   "cell_type": "code",
   "execution_count": 45,
   "id": "4e46ec6c",
   "metadata": {},
   "outputs": [
    {
     "ename": "NameError",
     "evalue": "name 'y_pred' is not defined",
     "output_type": "error",
     "traceback": [
      "\u001b[0;31m---------------------------------------------------------------------------\u001b[0m",
      "\u001b[0;31mNameError\u001b[0m                                 Traceback (most recent call last)",
      "Input \u001b[0;32mIn [45]\u001b[0m, in \u001b[0;36m<cell line: 2>\u001b[0;34m()\u001b[0m\n\u001b[1;32m      1\u001b[0m \u001b[38;5;66;03m# MSE\u001b[39;00m\n\u001b[0;32m----> 2\u001b[0m metrics\u001b[38;5;241m.\u001b[39mmean_squared_error(y, \u001b[43my_pred\u001b[49m)\n",
      "\u001b[0;31mNameError\u001b[0m: name 'y_pred' is not defined"
     ]
    }
   ],
   "source": [
    "# MSE\n",
    "metrics.mean_squared_error(y, y_pred)"
   ]
  },
  {
   "cell_type": "code",
   "execution_count": null,
   "id": "35bf0a51",
   "metadata": {},
   "outputs": [],
   "source": [
    "# N - Normality of errors\n",
    "plt.hist(y-objective(x,a,b), bins=50)\n",
    "for ys, s in zip(y-objective(x,a,b), annotations):\n",
    "    texts.append(plt.text(xs, ys, s))"
   ]
  },
  {
   "cell_type": "code",
   "execution_count": null,
   "id": "ca86accc",
   "metadata": {},
   "outputs": [],
   "source": []
  },
  {
   "cell_type": "code",
   "execution_count": null,
   "id": "28dee2db",
   "metadata": {},
   "outputs": [],
   "source": []
  },
  {
   "cell_type": "code",
   "execution_count": null,
   "id": "23a6dbb4",
   "metadata": {},
   "outputs": [],
   "source": [
    "x1 = x.values\n",
    "y1 = y.values\n",
    "lm = sm.OLS(y1, x1).fit()\n",
    "studentized_residuals = olsi(lm).resid_studentized\n",
    "leverage_pts = olsi(lm).hat_matrix_diag\n",
    "cook_dist = olsi(lm).cooks_distance\n",
    "\n",
    "fig, ax = plt.subplots(figsize=(12,8))\n",
    "fig = sm.graphics.influence_plot(lm, alpha  = 0.05, ax = ax, criterion=\"cooks\")"
   ]
  },
  {
   "cell_type": "code",
   "execution_count": null,
   "id": "ee82ff5d",
   "metadata": {},
   "outputs": [],
   "source": []
  }
 ],
 "metadata": {
  "kernelspec": {
   "display_name": "Python 3 (ipykernel)",
   "language": "python",
   "name": "python3"
  },
  "language_info": {
   "codemirror_mode": {
    "name": "ipython",
    "version": 3
   },
   "file_extension": ".py",
   "mimetype": "text/x-python",
   "name": "python",
   "nbconvert_exporter": "python",
   "pygments_lexer": "ipython3",
   "version": "3.9.12"
  }
 },
 "nbformat": 4,
 "nbformat_minor": 5
}
